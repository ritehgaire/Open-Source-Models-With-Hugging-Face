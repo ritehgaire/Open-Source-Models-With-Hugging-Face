{
 "cells": [
  {
   "cell_type": "markdown",
   "id": "0bbd4f64-84ae-4e24-92d3-148321510880",
   "metadata": {},
   "source": [
    "Cell 1: Install the necessary libraries\n"
   ]
  },
  {
   "cell_type": "code",
   "execution_count": 5,
   "id": "31b9dedd-eb28-4f3d-8034-3f287827f8de",
   "metadata": {},
   "outputs": [
    {
     "name": "stdout",
     "output_type": "stream",
     "text": [
      "Requirement already satisfied: transformers in /Users/riteshgaire/anaconda3/lib/python3.11/site-packages (4.37.2)\n",
      "Requirement already satisfied: gradio in /Users/riteshgaire/anaconda3/lib/python3.11/site-packages (4.42.0)\n",
      "Requirement already satisfied: soundfile in /Users/riteshgaire/anaconda3/lib/python3.11/site-packages (0.12.1)\n",
      "Requirement already satisfied: librosa in /Users/riteshgaire/anaconda3/lib/python3.11/site-packages (0.10.2.post1)\n",
      "Requirement already satisfied: filelock in /Users/riteshgaire/.local/lib/python3.11/site-packages (from transformers) (3.13.1)\n",
      "Requirement already satisfied: huggingface-hub<1.0,>=0.19.3 in /Users/riteshgaire/anaconda3/lib/python3.11/site-packages (from transformers) (0.24.6)\n",
      "Requirement already satisfied: numpy>=1.17 in /Users/riteshgaire/anaconda3/lib/python3.11/site-packages (from transformers) (1.26.4)\n",
      "Requirement already satisfied: packaging>=20.0 in /Users/riteshgaire/anaconda3/lib/python3.11/site-packages (from transformers) (23.2)\n",
      "Requirement already satisfied: pyyaml>=5.1 in /Users/riteshgaire/anaconda3/lib/python3.11/site-packages (from transformers) (6.0.1)\n",
      "Requirement already satisfied: regex!=2019.12.17 in /Users/riteshgaire/anaconda3/lib/python3.11/site-packages (from transformers) (2023.10.3)\n",
      "Requirement already satisfied: requests in /Users/riteshgaire/anaconda3/lib/python3.11/site-packages (from transformers) (2.32.3)\n",
      "Requirement already satisfied: tokenizers<0.19,>=0.14 in /Users/riteshgaire/anaconda3/lib/python3.11/site-packages (from transformers) (0.15.1)\n",
      "Requirement already satisfied: safetensors>=0.4.1 in /Users/riteshgaire/anaconda3/lib/python3.11/site-packages (from transformers) (0.4.2)\n",
      "Requirement already satisfied: tqdm>=4.27 in /Users/riteshgaire/anaconda3/lib/python3.11/site-packages (from transformers) (4.66.5)\n",
      "Requirement already satisfied: aiofiles<24.0,>=22.0 in /Users/riteshgaire/anaconda3/lib/python3.11/site-packages (from gradio) (23.2.1)\n",
      "Requirement already satisfied: anyio<5.0,>=3.0 in /Users/riteshgaire/anaconda3/lib/python3.11/site-packages (from gradio) (4.2.0)\n",
      "Requirement already satisfied: fastapi in /Users/riteshgaire/anaconda3/lib/python3.11/site-packages (from gradio) (0.112.2)\n",
      "Requirement already satisfied: ffmpy in /Users/riteshgaire/anaconda3/lib/python3.11/site-packages (from gradio) (0.4.0)\n",
      "Requirement already satisfied: gradio-client==1.3.0 in /Users/riteshgaire/anaconda3/lib/python3.11/site-packages (from gradio) (1.3.0)\n",
      "Requirement already satisfied: httpx>=0.24.1 in /Users/riteshgaire/anaconda3/lib/python3.11/site-packages (from gradio) (0.26.0)\n",
      "Requirement already satisfied: importlib-resources<7.0,>=1.3 in /Users/riteshgaire/anaconda3/lib/python3.11/site-packages (from gradio) (6.4.4)\n",
      "Requirement already satisfied: jinja2<4.0 in /Users/riteshgaire/anaconda3/lib/python3.11/site-packages (from gradio) (3.1.3)\n",
      "Requirement already satisfied: markupsafe~=2.0 in /Users/riteshgaire/anaconda3/lib/python3.11/site-packages (from gradio) (2.1.3)\n",
      "Requirement already satisfied: matplotlib~=3.0 in /Users/riteshgaire/anaconda3/lib/python3.11/site-packages (from gradio) (3.8.0)\n",
      "Requirement already satisfied: orjson~=3.0 in /Users/riteshgaire/anaconda3/lib/python3.11/site-packages (from gradio) (3.10.7)\n",
      "Requirement already satisfied: pandas<3.0,>=1.0 in /Users/riteshgaire/anaconda3/lib/python3.11/site-packages (from gradio) (2.1.4)\n",
      "Requirement already satisfied: pillow<11.0,>=8.0 in /Users/riteshgaire/anaconda3/lib/python3.11/site-packages (from gradio) (10.2.0)\n",
      "Requirement already satisfied: pydantic>=2.0 in /Users/riteshgaire/anaconda3/lib/python3.11/site-packages (from gradio) (2.5.3)\n",
      "Requirement already satisfied: pydub in /Users/riteshgaire/anaconda3/lib/python3.11/site-packages (from gradio) (0.25.1)\n",
      "Requirement already satisfied: python-multipart>=0.0.9 in /Users/riteshgaire/anaconda3/lib/python3.11/site-packages (from gradio) (0.0.9)\n",
      "Requirement already satisfied: ruff>=0.2.2 in /Users/riteshgaire/anaconda3/lib/python3.11/site-packages (from gradio) (0.6.3)\n",
      "Requirement already satisfied: semantic-version~=2.0 in /Users/riteshgaire/anaconda3/lib/python3.11/site-packages (from gradio) (2.10.0)\n",
      "Requirement already satisfied: tomlkit==0.12.0 in /Users/riteshgaire/anaconda3/lib/python3.11/site-packages (from gradio) (0.12.0)\n",
      "Requirement already satisfied: typer<1.0,>=0.12 in /Users/riteshgaire/anaconda3/lib/python3.11/site-packages (from gradio) (0.12.5)\n",
      "Requirement already satisfied: typing-extensions~=4.0 in /Users/riteshgaire/anaconda3/lib/python3.11/site-packages (from gradio) (4.12.2)\n",
      "Requirement already satisfied: urllib3~=2.0 in /Users/riteshgaire/anaconda3/lib/python3.11/site-packages (from gradio) (2.0.7)\n",
      "Requirement already satisfied: uvicorn>=0.14.0 in /Users/riteshgaire/anaconda3/lib/python3.11/site-packages (from gradio) (0.30.6)\n",
      "Requirement already satisfied: fsspec in /Users/riteshgaire/anaconda3/lib/python3.11/site-packages (from gradio-client==1.3.0->gradio) (2023.10.0)\n",
      "Requirement already satisfied: websockets<13.0,>=10.0 in /Users/riteshgaire/anaconda3/lib/python3.11/site-packages (from gradio-client==1.3.0->gradio) (12.0)\n",
      "Requirement already satisfied: cffi>=1.0 in /Users/riteshgaire/anaconda3/lib/python3.11/site-packages (from soundfile) (1.16.0)\n",
      "Requirement already satisfied: audioread>=2.1.9 in /Users/riteshgaire/anaconda3/lib/python3.11/site-packages (from librosa) (3.0.1)\n",
      "Requirement already satisfied: scipy>=1.2.0 in /Users/riteshgaire/anaconda3/lib/python3.11/site-packages (from librosa) (1.12.0)\n",
      "Requirement already satisfied: scikit-learn>=0.20.0 in /Users/riteshgaire/anaconda3/lib/python3.11/site-packages (from librosa) (1.2.2)\n",
      "Requirement already satisfied: joblib>=0.14 in /Users/riteshgaire/anaconda3/lib/python3.11/site-packages (from librosa) (1.2.0)\n",
      "Requirement already satisfied: decorator>=4.3.0 in /Users/riteshgaire/anaconda3/lib/python3.11/site-packages (from librosa) (5.1.1)\n",
      "Requirement already satisfied: numba>=0.51.0 in /Users/riteshgaire/anaconda3/lib/python3.11/site-packages (from librosa) (0.59.1)\n",
      "Requirement already satisfied: pooch>=1.1 in /Users/riteshgaire/anaconda3/lib/python3.11/site-packages (from librosa) (1.8.2)\n",
      "Requirement already satisfied: soxr>=0.3.2 in /Users/riteshgaire/anaconda3/lib/python3.11/site-packages (from librosa) (0.5.0.post1)\n",
      "Requirement already satisfied: lazy-loader>=0.1 in /Users/riteshgaire/anaconda3/lib/python3.11/site-packages (from librosa) (0.3)\n",
      "Requirement already satisfied: msgpack>=1.0 in /Users/riteshgaire/anaconda3/lib/python3.11/site-packages (from librosa) (1.0.3)\n",
      "Requirement already satisfied: idna>=2.8 in /Users/riteshgaire/anaconda3/lib/python3.11/site-packages (from anyio<5.0,>=3.0->gradio) (3.4)\n",
      "Requirement already satisfied: sniffio>=1.1 in /Users/riteshgaire/anaconda3/lib/python3.11/site-packages (from anyio<5.0,>=3.0->gradio) (1.3.0)\n",
      "Requirement already satisfied: pycparser in /Users/riteshgaire/anaconda3/lib/python3.11/site-packages (from cffi>=1.0->soundfile) (2.21)\n",
      "Requirement already satisfied: certifi in /Users/riteshgaire/anaconda3/lib/python3.11/site-packages (from httpx>=0.24.1->gradio) (2024.6.2)\n",
      "Requirement already satisfied: httpcore==1.* in /Users/riteshgaire/anaconda3/lib/python3.11/site-packages (from httpx>=0.24.1->gradio) (1.0.2)\n",
      "Requirement already satisfied: h11<0.15,>=0.13 in /Users/riteshgaire/anaconda3/lib/python3.11/site-packages (from httpcore==1.*->httpx>=0.24.1->gradio) (0.14.0)\n",
      "Requirement already satisfied: contourpy>=1.0.1 in /Users/riteshgaire/anaconda3/lib/python3.11/site-packages (from matplotlib~=3.0->gradio) (1.2.0)\n",
      "Requirement already satisfied: cycler>=0.10 in /Users/riteshgaire/anaconda3/lib/python3.11/site-packages (from matplotlib~=3.0->gradio) (0.11.0)\n",
      "Requirement already satisfied: fonttools>=4.22.0 in /Users/riteshgaire/anaconda3/lib/python3.11/site-packages (from matplotlib~=3.0->gradio) (4.25.0)\n",
      "Requirement already satisfied: kiwisolver>=1.0.1 in /Users/riteshgaire/anaconda3/lib/python3.11/site-packages (from matplotlib~=3.0->gradio) (1.4.4)\n",
      "Requirement already satisfied: pyparsing>=2.3.1 in /Users/riteshgaire/anaconda3/lib/python3.11/site-packages (from matplotlib~=3.0->gradio) (3.0.9)\n",
      "Requirement already satisfied: python-dateutil>=2.7 in /Users/riteshgaire/anaconda3/lib/python3.11/site-packages (from matplotlib~=3.0->gradio) (2.8.2)\n",
      "Requirement already satisfied: llvmlite<0.43,>=0.42.0dev0 in /Users/riteshgaire/anaconda3/lib/python3.11/site-packages (from numba>=0.51.0->librosa) (0.42.0)\n",
      "Requirement already satisfied: pytz>=2020.1 in /Users/riteshgaire/anaconda3/lib/python3.11/site-packages (from pandas<3.0,>=1.0->gradio) (2023.3.post1)\n",
      "Requirement already satisfied: tzdata>=2022.1 in /Users/riteshgaire/anaconda3/lib/python3.11/site-packages (from pandas<3.0,>=1.0->gradio) (2023.3)\n",
      "Requirement already satisfied: platformdirs>=2.5.0 in /Users/riteshgaire/anaconda3/lib/python3.11/site-packages (from pooch>=1.1->librosa) (3.10.0)\n",
      "Requirement already satisfied: annotated-types>=0.4.0 in /Users/riteshgaire/anaconda3/lib/python3.11/site-packages (from pydantic>=2.0->gradio) (0.6.0)\n",
      "Requirement already satisfied: pydantic-core==2.14.6 in /Users/riteshgaire/anaconda3/lib/python3.11/site-packages (from pydantic>=2.0->gradio) (2.14.6)\n",
      "Requirement already satisfied: charset-normalizer<4,>=2 in /Users/riteshgaire/anaconda3/lib/python3.11/site-packages (from requests->transformers) (2.0.4)\n",
      "Requirement already satisfied: threadpoolctl>=2.0.0 in /Users/riteshgaire/anaconda3/lib/python3.11/site-packages (from scikit-learn>=0.20.0->librosa) (2.2.0)\n",
      "Requirement already satisfied: click>=8.0.0 in /Users/riteshgaire/anaconda3/lib/python3.11/site-packages (from typer<1.0,>=0.12->gradio) (8.1.7)\n",
      "Requirement already satisfied: shellingham>=1.3.0 in /Users/riteshgaire/anaconda3/lib/python3.11/site-packages (from typer<1.0,>=0.12->gradio) (1.5.0)\n",
      "Requirement already satisfied: rich>=10.11.0 in /Users/riteshgaire/anaconda3/lib/python3.11/site-packages (from typer<1.0,>=0.12->gradio) (13.7.1)\n",
      "Requirement already satisfied: starlette<0.39.0,>=0.37.2 in /Users/riteshgaire/anaconda3/lib/python3.11/site-packages (from fastapi->gradio) (0.38.4)\n",
      "Requirement already satisfied: six>=1.5 in /Users/riteshgaire/anaconda3/lib/python3.11/site-packages (from python-dateutil>=2.7->matplotlib~=3.0->gradio) (1.16.0)\n",
      "Requirement already satisfied: markdown-it-py>=2.2.0 in /Users/riteshgaire/anaconda3/lib/python3.11/site-packages (from rich>=10.11.0->typer<1.0,>=0.12->gradio) (2.2.0)\n",
      "Requirement already satisfied: pygments<3.0.0,>=2.13.0 in /Users/riteshgaire/anaconda3/lib/python3.11/site-packages (from rich>=10.11.0->typer<1.0,>=0.12->gradio) (2.15.1)\n",
      "Requirement already satisfied: mdurl~=0.1 in /Users/riteshgaire/anaconda3/lib/python3.11/site-packages (from markdown-it-py>=2.2.0->rich>=10.11.0->typer<1.0,>=0.12->gradio) (0.1.0)\n"
     ]
    }
   ],
   "source": [
    "!pip install transformers gradio soundfile librosa\n"
   ]
  },
  {
   "cell_type": "markdown",
   "id": "d5d6fae1-abe3-47fd-8206-3728c8a880cc",
   "metadata": {},
   "source": [
    "Cell 2: Import necessary modules and set up logging"
   ]
  },
  {
   "cell_type": "code",
   "execution_count": 8,
   "id": "6051b8be-9fe5-4e18-82cc-88f137070df1",
   "metadata": {},
   "outputs": [
    {
     "name": "stderr",
     "output_type": "stream",
     "text": [
      "/Users/riteshgaire/anaconda3/lib/python3.11/site-packages/huggingface_hub/file_download.py:1150: FutureWarning: `resume_download` is deprecated and will be removed in version 1.0.0. Downloads always resume when possible. If you want to force a new download, use `force_download=True`.\n",
      "  warnings.warn(\n"
     ]
    }
   ],
   "source": [
    "# Import necessary modules for the application\n",
    "import os\n",
    "import gradio as gr\n",
    "from transformers import pipeline\n",
    "from transformers.utils import logging\n",
    "\n",
    "# Suppress logging warnings and info messages to reduce output clutter\n",
    "logging.set_verbosity_error()\n",
    "\n",
    "# Load the pre-trained ASR pipeline (assuming the correct model is used)\n",
    "asr = pipeline(task=\"automatic-speech-recognition\", model=\"openai/whisper-small\")\n"
   ]
  },
  {
   "cell_type": "markdown",
   "id": "32f7f5be-f1b7-4839-b762-47bcb66c483f",
   "metadata": {},
   "source": [
    "Cell 3: Define a function to handle speech transcription"
   ]
  },
  {
   "cell_type": "code",
   "execution_count": 10,
   "id": "5b87b18d-12ab-4964-9a2f-4d53cdb235cb",
   "metadata": {},
   "outputs": [],
   "source": [
    "# Define the transcription function for the Gradio app\n",
    "def transcribe_speech(filepath):\n",
    "    if filepath is None:\n",
    "        # Warning if no audio file is provided\n",
    "        gr.Warning(\"No audio found, please retry.\")\n",
    "        return \"\"\n",
    "    \n",
    "    # Run automatic speech recognition on the provided file\n",
    "    output = asr(filepath)\n",
    "    return output[\"text\"]\n"
   ]
  },
  {
   "cell_type": "markdown",
   "id": "7ee75845-c12d-4b50-9583-20c574bed4da",
   "metadata": {},
   "source": [
    "Cell 4: Build Gradio interfaces for microphone and file upload transcription"
   ]
  },
  {
   "cell_type": "code",
   "execution_count": 14,
   "id": "b71a44ac-3a31-42b0-b887-c7c63fe6db72",
   "metadata": {},
   "outputs": [
    {
     "ename": "TypeError",
     "evalue": "Audio.__init__() got an unexpected keyword argument 'source'",
     "output_type": "error",
     "traceback": [
      "\u001b[0;31m---------------------------------------------------------------------------\u001b[0m",
      "\u001b[0;31mTypeError\u001b[0m                                 Traceback (most recent call last)",
      "Cell \u001b[0;32mIn[14], line 4\u001b[0m\n\u001b[1;32m      1\u001b[0m \u001b[38;5;66;03m# Build the microphone-based transcription interface\u001b[39;00m\n\u001b[1;32m      2\u001b[0m mic_transcribe \u001b[38;5;241m=\u001b[39m gr\u001b[38;5;241m.\u001b[39mInterface(\n\u001b[1;32m      3\u001b[0m     fn\u001b[38;5;241m=\u001b[39mtranscribe_speech,\n\u001b[0;32m----> 4\u001b[0m     inputs\u001b[38;5;241m=\u001b[39mgr\u001b[38;5;241m.\u001b[39mAudio(source\u001b[38;5;241m=\u001b[39m\u001b[38;5;124m\"\u001b[39m\u001b[38;5;124mmicrophone\u001b[39m\u001b[38;5;124m\"\u001b[39m, \u001b[38;5;28mtype\u001b[39m\u001b[38;5;241m=\u001b[39m\u001b[38;5;124m\"\u001b[39m\u001b[38;5;124mfilepath\u001b[39m\u001b[38;5;124m\"\u001b[39m),\n\u001b[1;32m      5\u001b[0m     outputs\u001b[38;5;241m=\u001b[39mgr\u001b[38;5;241m.\u001b[39mTextbox(label\u001b[38;5;241m=\u001b[39m\u001b[38;5;124m\"\u001b[39m\u001b[38;5;124mTranscription\u001b[39m\u001b[38;5;124m\"\u001b[39m, lines\u001b[38;5;241m=\u001b[39m\u001b[38;5;241m3\u001b[39m),\n\u001b[1;32m      6\u001b[0m     allow_flagging\u001b[38;5;241m=\u001b[39m\u001b[38;5;124m\"\u001b[39m\u001b[38;5;124mnever\u001b[39m\u001b[38;5;124m\"\u001b[39m\n\u001b[1;32m      7\u001b[0m )\n\u001b[1;32m      9\u001b[0m \u001b[38;5;66;03m# Build the file upload-based transcription interface\u001b[39;00m\n\u001b[1;32m     10\u001b[0m file_transcribe \u001b[38;5;241m=\u001b[39m gr\u001b[38;5;241m.\u001b[39mInterface(\n\u001b[1;32m     11\u001b[0m     fn\u001b[38;5;241m=\u001b[39mtranscribe_speech,\n\u001b[1;32m     12\u001b[0m     inputs\u001b[38;5;241m=\u001b[39mgr\u001b[38;5;241m.\u001b[39mAudio(source\u001b[38;5;241m=\u001b[39m\u001b[38;5;124m\"\u001b[39m\u001b[38;5;124mupload\u001b[39m\u001b[38;5;124m\"\u001b[39m, \u001b[38;5;28mtype\u001b[39m\u001b[38;5;241m=\u001b[39m\u001b[38;5;124m\"\u001b[39m\u001b[38;5;124mfilepath\u001b[39m\u001b[38;5;124m\"\u001b[39m),\n\u001b[1;32m     13\u001b[0m     outputs\u001b[38;5;241m=\u001b[39mgr\u001b[38;5;241m.\u001b[39mTextbox(label\u001b[38;5;241m=\u001b[39m\u001b[38;5;124m\"\u001b[39m\u001b[38;5;124mTranscription\u001b[39m\u001b[38;5;124m\"\u001b[39m, lines\u001b[38;5;241m=\u001b[39m\u001b[38;5;241m3\u001b[39m),\n\u001b[1;32m     14\u001b[0m     allow_flagging\u001b[38;5;241m=\u001b[39m\u001b[38;5;124m\"\u001b[39m\u001b[38;5;124mnever\u001b[39m\u001b[38;5;124m\"\u001b[39m\n\u001b[1;32m     15\u001b[0m )\n",
      "File \u001b[0;32m~/anaconda3/lib/python3.11/site-packages/gradio/component_meta.py:167\u001b[0m, in \u001b[0;36mupdateable.<locals>.wrapper\u001b[0;34m(*args, **kwargs)\u001b[0m\n\u001b[1;32m    165\u001b[0m     \u001b[38;5;28;01mreturn\u001b[39;00m \u001b[38;5;28;01mNone\u001b[39;00m\n\u001b[1;32m    166\u001b[0m \u001b[38;5;28;01melse\u001b[39;00m:\n\u001b[0;32m--> 167\u001b[0m     \u001b[38;5;28;01mreturn\u001b[39;00m fn(\u001b[38;5;28mself\u001b[39m, \u001b[38;5;241m*\u001b[39m\u001b[38;5;241m*\u001b[39mkwargs)\n",
      "\u001b[0;31mTypeError\u001b[0m: Audio.__init__() got an unexpected keyword argument 'source'"
     ]
    }
   ],
   "source": [
    "# Build the microphone-based transcription interface\n",
    "mic_transcribe = gr.Interface(\n",
    "    fn=transcribe_speech,\n",
    "    inputs=gr.Audio(source=\"microphone\", type=\"filepath\"),\n",
    "    outputs=gr.Textbox(label=\"Transcription\", lines=3),\n",
    "    allow_flagging=\"never\"\n",
    ")\n",
    "\n",
    "# Build the file upload-based transcription interface\n",
    "file_transcribe = gr.Interface(\n",
    "    fn=transcribe_speech,\n",
    "    inputs=gr.Audio(source=\"upload\", type=\"filepath\"),\n",
    "    outputs=gr.Textbox(label=\"Transcription\", lines=3),\n",
    "    allow_flagging=\"never\"\n",
    ")\n"
   ]
  },
  {
   "cell_type": "markdown",
   "id": "6f23c051-51b9-4f3c-8385-7da7876c6dd4",
   "metadata": {},
   "source": [
    "Cell 5: Create a tabbed interface to switch between microphone and file-based transcription"
   ]
  },
  {
   "cell_type": "code",
   "execution_count": 17,
   "id": "b0a82bf8-9227-41da-813d-a3c3adfecd95",
   "metadata": {},
   "outputs": [
    {
     "ename": "NameError",
     "evalue": "name 'mic_transcribe' is not defined",
     "output_type": "error",
     "traceback": [
      "\u001b[0;31m---------------------------------------------------------------------------\u001b[0m",
      "\u001b[0;31mNameError\u001b[0m                                 Traceback (most recent call last)",
      "Cell \u001b[0;32mIn[17], line 7\u001b[0m\n\u001b[1;32m      2\u001b[0m demo \u001b[38;5;241m=\u001b[39m gr\u001b[38;5;241m.\u001b[39mBlocks()\n\u001b[1;32m      4\u001b[0m \u001b[38;5;28;01mwith\u001b[39;00m demo:\n\u001b[1;32m      5\u001b[0m     \u001b[38;5;66;03m# Set up a tabbed interface for microphone transcription and file upload transcription\u001b[39;00m\n\u001b[1;32m      6\u001b[0m     gr\u001b[38;5;241m.\u001b[39mTabbedInterface(\n\u001b[0;32m----> 7\u001b[0m         [mic_transcribe, file_transcribe],\n\u001b[1;32m      8\u001b[0m         [\u001b[38;5;124m\"\u001b[39m\u001b[38;5;124mTranscribe Microphone\u001b[39m\u001b[38;5;124m\"\u001b[39m, \u001b[38;5;124m\"\u001b[39m\u001b[38;5;124mTranscribe Audio File\u001b[39m\u001b[38;5;124m\"\u001b[39m]\n\u001b[1;32m      9\u001b[0m     )\n",
      "\u001b[0;31mNameError\u001b[0m: name 'mic_transcribe' is not defined"
     ]
    }
   ],
   "source": [
    "# Create a Gradio Blocks interface to house both the microphone and file-based transcription options\n",
    "demo = gr.Blocks()\n",
    "\n",
    "with demo:\n",
    "    # Set up a tabbed interface for microphone transcription and file upload transcription\n",
    "    gr.TabbedInterface(\n",
    "        [mic_transcribe, file_transcribe],\n",
    "        [\"Transcribe Microphone\", \"Transcribe Audio File\"]\n",
    "    )\n"
   ]
  },
  {
   "cell_type": "markdown",
   "id": "d95cf398-f989-472c-8b7d-035c6c450eea",
   "metadata": {},
   "source": [
    "Cell 6: Launch the Gradio demo (shareable app)"
   ]
  },
  {
   "cell_type": "code",
   "execution_count": 20,
   "id": "76619c0f-c7c2-4909-859d-b64b0dedc49c",
   "metadata": {},
   "outputs": [
    {
     "ename": "OSError",
     "evalue": "Cannot find empty port in range: 7860-7860. You can specify a different port by setting the GRADIO_SERVER_PORT environment variable or passing the `server_port` parameter to `launch()`.",
     "output_type": "error",
     "traceback": [
      "\u001b[0;31m---------------------------------------------------------------------------\u001b[0m",
      "\u001b[0;31mOSError\u001b[0m                                   Traceback (most recent call last)",
      "Cell \u001b[0;32mIn[20], line 3\u001b[0m\n\u001b[1;32m      1\u001b[0m \u001b[38;5;66;03m# Launch the Gradio app, setting the server port dynamically\u001b[39;00m\n\u001b[1;32m      2\u001b[0m \u001b[38;5;66;03m# The share=True argument allows the app to be shared over the internet\u001b[39;00m\n\u001b[0;32m----> 3\u001b[0m demo\u001b[38;5;241m.\u001b[39mlaunch(share\u001b[38;5;241m=\u001b[39m\u001b[38;5;28;01mTrue\u001b[39;00m, server_port\u001b[38;5;241m=\u001b[39m\u001b[38;5;28mint\u001b[39m(os\u001b[38;5;241m.\u001b[39menviron\u001b[38;5;241m.\u001b[39mget(\u001b[38;5;124m'\u001b[39m\u001b[38;5;124mPORT1\u001b[39m\u001b[38;5;124m'\u001b[39m, \u001b[38;5;241m7860\u001b[39m)))\n",
      "File \u001b[0;32m~/anaconda3/lib/python3.11/site-packages/gradio/blocks.py:2368\u001b[0m, in \u001b[0;36mBlocks.launch\u001b[0;34m(self, inline, inbrowser, share, debug, max_threads, auth, auth_message, prevent_thread_lock, show_error, server_name, server_port, height, width, favicon_path, ssl_keyfile, ssl_certfile, ssl_keyfile_password, ssl_verify, quiet, show_api, allowed_paths, blocked_paths, root_path, app_kwargs, state_session_capacity, share_server_address, share_server_protocol, auth_dependency, max_file_size, _frontend, enable_monitoring)\u001b[0m\n\u001b[1;32m   2360\u001b[0m \u001b[38;5;28;01melse\u001b[39;00m:\n\u001b[1;32m   2361\u001b[0m     \u001b[38;5;28;01mfrom\u001b[39;00m \u001b[38;5;21;01mgradio\u001b[39;00m \u001b[38;5;28;01mimport\u001b[39;00m http_server\n\u001b[1;32m   2363\u001b[0m     (\n\u001b[1;32m   2364\u001b[0m         server_name,\n\u001b[1;32m   2365\u001b[0m         server_port,\n\u001b[1;32m   2366\u001b[0m         local_url,\n\u001b[1;32m   2367\u001b[0m         server,\n\u001b[0;32m-> 2368\u001b[0m     ) \u001b[38;5;241m=\u001b[39m http_server\u001b[38;5;241m.\u001b[39mstart_server(\n\u001b[1;32m   2369\u001b[0m         app\u001b[38;5;241m=\u001b[39m\u001b[38;5;28mself\u001b[39m\u001b[38;5;241m.\u001b[39mapp,\n\u001b[1;32m   2370\u001b[0m         server_name\u001b[38;5;241m=\u001b[39mserver_name,\n\u001b[1;32m   2371\u001b[0m         server_port\u001b[38;5;241m=\u001b[39mserver_port,\n\u001b[1;32m   2372\u001b[0m         ssl_keyfile\u001b[38;5;241m=\u001b[39mssl_keyfile,\n\u001b[1;32m   2373\u001b[0m         ssl_certfile\u001b[38;5;241m=\u001b[39mssl_certfile,\n\u001b[1;32m   2374\u001b[0m         ssl_keyfile_password\u001b[38;5;241m=\u001b[39mssl_keyfile_password,\n\u001b[1;32m   2375\u001b[0m     )\n\u001b[1;32m   2376\u001b[0m \u001b[38;5;28mself\u001b[39m\u001b[38;5;241m.\u001b[39mserver_name \u001b[38;5;241m=\u001b[39m server_name\n\u001b[1;32m   2377\u001b[0m \u001b[38;5;28mself\u001b[39m\u001b[38;5;241m.\u001b[39mlocal_url \u001b[38;5;241m=\u001b[39m local_url\n",
      "File \u001b[0;32m~/anaconda3/lib/python3.11/site-packages/gradio/http_server.py:154\u001b[0m, in \u001b[0;36mstart_server\u001b[0;34m(app, server_name, server_port, ssl_keyfile, ssl_certfile, ssl_keyfile_password)\u001b[0m\n\u001b[1;32m    152\u001b[0m         \u001b[38;5;28;01mpass\u001b[39;00m\n\u001b[1;32m    153\u001b[0m \u001b[38;5;28;01melse\u001b[39;00m:\n\u001b[0;32m--> 154\u001b[0m     \u001b[38;5;28;01mraise\u001b[39;00m \u001b[38;5;167;01mOSError\u001b[39;00m(\n\u001b[1;32m    155\u001b[0m         \u001b[38;5;124mf\u001b[39m\u001b[38;5;124m\"\u001b[39m\u001b[38;5;124mCannot find empty port in range: \u001b[39m\u001b[38;5;132;01m{\u001b[39;00m\u001b[38;5;28mmin\u001b[39m(server_ports)\u001b[38;5;132;01m}\u001b[39;00m\u001b[38;5;124m-\u001b[39m\u001b[38;5;132;01m{\u001b[39;00m\u001b[38;5;28mmax\u001b[39m(server_ports)\u001b[38;5;132;01m}\u001b[39;00m\u001b[38;5;124m. You can specify a different port by setting the GRADIO_SERVER_PORT environment variable or passing the `server_port` parameter to `launch()`.\u001b[39m\u001b[38;5;124m\"\u001b[39m\n\u001b[1;32m    156\u001b[0m     )\n\u001b[1;32m    158\u001b[0m \u001b[38;5;28;01mif\u001b[39;00m ssl_keyfile \u001b[38;5;129;01mis\u001b[39;00m \u001b[38;5;129;01mnot\u001b[39;00m \u001b[38;5;28;01mNone\u001b[39;00m:\n\u001b[1;32m    159\u001b[0m     path_to_local_server \u001b[38;5;241m=\u001b[39m \u001b[38;5;124mf\u001b[39m\u001b[38;5;124m\"\u001b[39m\u001b[38;5;124mhttps://\u001b[39m\u001b[38;5;132;01m{\u001b[39;00murl_host_name\u001b[38;5;132;01m}\u001b[39;00m\u001b[38;5;124m:\u001b[39m\u001b[38;5;132;01m{\u001b[39;00mport\u001b[38;5;132;01m}\u001b[39;00m\u001b[38;5;124m/\u001b[39m\u001b[38;5;124m\"\u001b[39m\n",
      "\u001b[0;31mOSError\u001b[0m: Cannot find empty port in range: 7860-7860. You can specify a different port by setting the GRADIO_SERVER_PORT environment variable or passing the `server_port` parameter to `launch()`."
     ]
    }
   ],
   "source": [
    "# Launch the Gradio app, setting the server port dynamically\n",
    "# The share=True argument allows the app to be shared over the internet\n",
    "demo.launch(share=True, server_port=int(os.environ.get('PORT1', 7860)))\n"
   ]
  },
  {
   "cell_type": "markdown",
   "id": "2d075937-7e60-4319-bff4-4ad430bf2b5c",
   "metadata": {},
   "source": [
    "Cell 7: Close the Gradio demo"
   ]
  },
  {
   "cell_type": "code",
   "execution_count": 21,
   "id": "8f46f5ab-07e0-48b7-a3a9-f86b055ac701",
   "metadata": {},
   "outputs": [],
   "source": [
    "# Stop the Gradio app to free up resources and avoid conflicts when launching other Gradio apps\n",
    "demo.close()\n"
   ]
  },
  {
   "cell_type": "markdown",
   "id": "1bb51a37-ad74-46ea-a7d3-8a6427d8476b",
   "metadata": {},
   "source": [
    "Cell 8: Load and preprocess a long audio file"
   ]
  },
  {
   "cell_type": "code",
   "execution_count": 25,
   "id": "6aa1686a-eb83-4e52-818a-f207867c9fa4",
   "metadata": {},
   "outputs": [
    {
     "ename": "LibsndfileError",
     "evalue": "Error opening 'narration_example.wav': System error.",
     "output_type": "error",
     "traceback": [
      "\u001b[0;31m---------------------------------------------------------------------------\u001b[0m",
      "\u001b[0;31mLibsndfileError\u001b[0m                           Traceback (most recent call last)",
      "Cell \u001b[0;32mIn[25], line 6\u001b[0m\n\u001b[1;32m      3\u001b[0m \u001b[38;5;28;01mimport\u001b[39;00m \u001b[38;5;21;01mio\u001b[39;00m\n\u001b[1;32m      5\u001b[0m \u001b[38;5;66;03m# Read the 'narration_example.wav' audio file\u001b[39;00m\n\u001b[0;32m----> 6\u001b[0m audio, sampling_rate \u001b[38;5;241m=\u001b[39m sf\u001b[38;5;241m.\u001b[39mread(\u001b[38;5;124m'\u001b[39m\u001b[38;5;124mnarration_example.wav\u001b[39m\u001b[38;5;124m'\u001b[39m)\n\u001b[1;32m      8\u001b[0m \u001b[38;5;66;03m# Check the sampling rate of the loaded audio\u001b[39;00m\n\u001b[1;32m      9\u001b[0m \u001b[38;5;28mprint\u001b[39m(\u001b[38;5;124m\"\u001b[39m\u001b[38;5;124mLoaded audio sampling rate:\u001b[39m\u001b[38;5;124m\"\u001b[39m, sampling_rate)\n",
      "File \u001b[0;32m~/anaconda3/lib/python3.11/site-packages/soundfile.py:285\u001b[0m, in \u001b[0;36mread\u001b[0;34m(file, frames, start, stop, dtype, always_2d, fill_value, out, samplerate, channels, format, subtype, endian, closefd)\u001b[0m\n\u001b[1;32m    199\u001b[0m \u001b[38;5;28;01mdef\u001b[39;00m \u001b[38;5;21mread\u001b[39m(file, frames\u001b[38;5;241m=\u001b[39m\u001b[38;5;241m-\u001b[39m\u001b[38;5;241m1\u001b[39m, start\u001b[38;5;241m=\u001b[39m\u001b[38;5;241m0\u001b[39m, stop\u001b[38;5;241m=\u001b[39m\u001b[38;5;28;01mNone\u001b[39;00m, dtype\u001b[38;5;241m=\u001b[39m\u001b[38;5;124m'\u001b[39m\u001b[38;5;124mfloat64\u001b[39m\u001b[38;5;124m'\u001b[39m, always_2d\u001b[38;5;241m=\u001b[39m\u001b[38;5;28;01mFalse\u001b[39;00m,\n\u001b[1;32m    200\u001b[0m          fill_value\u001b[38;5;241m=\u001b[39m\u001b[38;5;28;01mNone\u001b[39;00m, out\u001b[38;5;241m=\u001b[39m\u001b[38;5;28;01mNone\u001b[39;00m, samplerate\u001b[38;5;241m=\u001b[39m\u001b[38;5;28;01mNone\u001b[39;00m, channels\u001b[38;5;241m=\u001b[39m\u001b[38;5;28;01mNone\u001b[39;00m,\n\u001b[1;32m    201\u001b[0m          \u001b[38;5;28mformat\u001b[39m\u001b[38;5;241m=\u001b[39m\u001b[38;5;28;01mNone\u001b[39;00m, subtype\u001b[38;5;241m=\u001b[39m\u001b[38;5;28;01mNone\u001b[39;00m, endian\u001b[38;5;241m=\u001b[39m\u001b[38;5;28;01mNone\u001b[39;00m, closefd\u001b[38;5;241m=\u001b[39m\u001b[38;5;28;01mTrue\u001b[39;00m):\n\u001b[1;32m    202\u001b[0m \u001b[38;5;250m    \u001b[39m\u001b[38;5;124;03m\"\"\"Provide audio data from a sound file as NumPy array.\u001b[39;00m\n\u001b[1;32m    203\u001b[0m \n\u001b[1;32m    204\u001b[0m \u001b[38;5;124;03m    By default, the whole file is read from the beginning, but the\u001b[39;00m\n\u001b[0;32m   (...)\u001b[0m\n\u001b[1;32m    283\u001b[0m \n\u001b[1;32m    284\u001b[0m \u001b[38;5;124;03m    \"\"\"\u001b[39;00m\n\u001b[0;32m--> 285\u001b[0m     \u001b[38;5;28;01mwith\u001b[39;00m SoundFile(file, \u001b[38;5;124m'\u001b[39m\u001b[38;5;124mr\u001b[39m\u001b[38;5;124m'\u001b[39m, samplerate, channels,\n\u001b[1;32m    286\u001b[0m                    subtype, endian, \u001b[38;5;28mformat\u001b[39m, closefd) \u001b[38;5;28;01mas\u001b[39;00m f:\n\u001b[1;32m    287\u001b[0m         frames \u001b[38;5;241m=\u001b[39m f\u001b[38;5;241m.\u001b[39m_prepare_read(start, stop, frames)\n\u001b[1;32m    288\u001b[0m         data \u001b[38;5;241m=\u001b[39m f\u001b[38;5;241m.\u001b[39mread(frames, dtype, always_2d, fill_value, out)\n",
      "File \u001b[0;32m~/anaconda3/lib/python3.11/site-packages/soundfile.py:658\u001b[0m, in \u001b[0;36mSoundFile.__init__\u001b[0;34m(self, file, mode, samplerate, channels, subtype, endian, format, closefd)\u001b[0m\n\u001b[1;32m    655\u001b[0m \u001b[38;5;28mself\u001b[39m\u001b[38;5;241m.\u001b[39m_mode \u001b[38;5;241m=\u001b[39m mode\n\u001b[1;32m    656\u001b[0m \u001b[38;5;28mself\u001b[39m\u001b[38;5;241m.\u001b[39m_info \u001b[38;5;241m=\u001b[39m _create_info_struct(file, mode, samplerate, channels,\n\u001b[1;32m    657\u001b[0m                                  \u001b[38;5;28mformat\u001b[39m, subtype, endian)\n\u001b[0;32m--> 658\u001b[0m \u001b[38;5;28mself\u001b[39m\u001b[38;5;241m.\u001b[39m_file \u001b[38;5;241m=\u001b[39m \u001b[38;5;28mself\u001b[39m\u001b[38;5;241m.\u001b[39m_open(file, mode_int, closefd)\n\u001b[1;32m    659\u001b[0m \u001b[38;5;28;01mif\u001b[39;00m \u001b[38;5;28mset\u001b[39m(mode)\u001b[38;5;241m.\u001b[39missuperset(\u001b[38;5;124m'\u001b[39m\u001b[38;5;124mr+\u001b[39m\u001b[38;5;124m'\u001b[39m) \u001b[38;5;129;01mand\u001b[39;00m \u001b[38;5;28mself\u001b[39m\u001b[38;5;241m.\u001b[39mseekable():\n\u001b[1;32m    660\u001b[0m     \u001b[38;5;66;03m# Move write position to 0 (like in Python file objects)\u001b[39;00m\n\u001b[1;32m    661\u001b[0m     \u001b[38;5;28mself\u001b[39m\u001b[38;5;241m.\u001b[39mseek(\u001b[38;5;241m0\u001b[39m)\n",
      "File \u001b[0;32m~/anaconda3/lib/python3.11/site-packages/soundfile.py:1216\u001b[0m, in \u001b[0;36mSoundFile._open\u001b[0;34m(self, file, mode_int, closefd)\u001b[0m\n\u001b[1;32m   1213\u001b[0m \u001b[38;5;28;01mif\u001b[39;00m file_ptr \u001b[38;5;241m==\u001b[39m _ffi\u001b[38;5;241m.\u001b[39mNULL:\n\u001b[1;32m   1214\u001b[0m     \u001b[38;5;66;03m# get the actual error code\u001b[39;00m\n\u001b[1;32m   1215\u001b[0m     err \u001b[38;5;241m=\u001b[39m _snd\u001b[38;5;241m.\u001b[39msf_error(file_ptr)\n\u001b[0;32m-> 1216\u001b[0m     \u001b[38;5;28;01mraise\u001b[39;00m LibsndfileError(err, prefix\u001b[38;5;241m=\u001b[39m\u001b[38;5;124m\"\u001b[39m\u001b[38;5;124mError opening \u001b[39m\u001b[38;5;132;01m{0!r}\u001b[39;00m\u001b[38;5;124m: \u001b[39m\u001b[38;5;124m\"\u001b[39m\u001b[38;5;241m.\u001b[39mformat(\u001b[38;5;28mself\u001b[39m\u001b[38;5;241m.\u001b[39mname))\n\u001b[1;32m   1217\u001b[0m \u001b[38;5;28;01mif\u001b[39;00m mode_int \u001b[38;5;241m==\u001b[39m _snd\u001b[38;5;241m.\u001b[39mSFM_WRITE:\n\u001b[1;32m   1218\u001b[0m     \u001b[38;5;66;03m# Due to a bug in libsndfile version <= 1.0.25, frames != 0\u001b[39;00m\n\u001b[1;32m   1219\u001b[0m     \u001b[38;5;66;03m# when opening a named pipe in SFM_WRITE mode.\u001b[39;00m\n\u001b[1;32m   1220\u001b[0m     \u001b[38;5;66;03m# See http://github.com/erikd/libsndfile/issues/77.\u001b[39;00m\n\u001b[1;32m   1221\u001b[0m     \u001b[38;5;28mself\u001b[39m\u001b[38;5;241m.\u001b[39m_info\u001b[38;5;241m.\u001b[39mframes \u001b[38;5;241m=\u001b[39m \u001b[38;5;241m0\u001b[39m\n",
      "\u001b[0;31mLibsndfileError\u001b[0m: Error opening 'narration_example.wav': System error."
     ]
    }
   ],
   "source": [
    "# Import the soundfile library to read and process audio files\n",
    "import soundfile as sf\n",
    "import io\n",
    "\n",
    "# Read the 'narration_example.wav' audio file\n",
    "audio, sampling_rate = sf.read('narration_example.wav')\n",
    "\n",
    "# Check the sampling rate of the loaded audio\n",
    "print(\"Loaded audio sampling rate:\", sampling_rate)\n",
    "\n",
    "# Check the model's expected sampling rate for ASR\n",
    "print(\"ASR model's expected sampling rate:\", asr.feature_extractor.sampling_rate)\n"
   ]
  },
  {
   "cell_type": "markdown",
   "id": "ce16e26f-833a-4f54-be9c-e81cbd985d29",
   "metadata": {},
   "source": [
    "Cell 9: Convert stereo audio to mono using NumPy and librosa\n"
   ]
  },
  {
   "cell_type": "code",
   "execution_count": 28,
   "id": "0fe8ce55-f9c8-4bc3-bf15-33adc5d0a404",
   "metadata": {},
   "outputs": [
    {
     "ename": "NameError",
     "evalue": "name 'audio' is not defined",
     "output_type": "error",
     "traceback": [
      "\u001b[0;31m---------------------------------------------------------------------------\u001b[0m",
      "\u001b[0;31mNameError\u001b[0m                                 Traceback (most recent call last)",
      "Cell \u001b[0;32mIn[28], line 6\u001b[0m\n\u001b[1;32m      3\u001b[0m \u001b[38;5;28;01mimport\u001b[39;00m \u001b[38;5;21;01mlibrosa\u001b[39;00m\n\u001b[1;32m      5\u001b[0m \u001b[38;5;66;03m# If the audio is stereo (two channels), convert it to mono\u001b[39;00m\n\u001b[0;32m----> 6\u001b[0m \u001b[38;5;28;01mif\u001b[39;00m \u001b[38;5;28mlen\u001b[39m(audio\u001b[38;5;241m.\u001b[39mshape) \u001b[38;5;241m>\u001b[39m \u001b[38;5;241m1\u001b[39m:\n\u001b[1;32m      7\u001b[0m     audio_mono \u001b[38;5;241m=\u001b[39m librosa\u001b[38;5;241m.\u001b[39mto_mono(audio\u001b[38;5;241m.\u001b[39mT)\n\u001b[1;32m      8\u001b[0m     \u001b[38;5;28mprint\u001b[39m(\u001b[38;5;124mf\u001b[39m\u001b[38;5;124m\"\u001b[39m\u001b[38;5;124mConverted to mono. New shape: \u001b[39m\u001b[38;5;132;01m{\u001b[39;00maudio_mono\u001b[38;5;241m.\u001b[39mshape\u001b[38;5;132;01m}\u001b[39;00m\u001b[38;5;124m\"\u001b[39m)\n",
      "\u001b[0;31mNameError\u001b[0m: name 'audio' is not defined"
     ]
    }
   ],
   "source": [
    "# Import necessary libraries for audio manipulation\n",
    "import numpy as np\n",
    "import librosa\n",
    "\n",
    "# If the audio is stereo (two channels), convert it to mono\n",
    "if len(audio.shape) > 1:\n",
    "    audio_mono = librosa.to_mono(audio.T)\n",
    "    print(f\"Converted to mono. New shape: {audio_mono.shape}\")\n",
    "else:\n",
    "    audio_mono = audio  # If already mono, no need to convert\n"
   ]
  },
  {
   "cell_type": "markdown",
   "id": "ee6c6488-44a6-4f75-86bc-967c81f41d16",
   "metadata": {},
   "source": [
    "Cell 10: Resample the audio to match the ASR model's sampling rate"
   ]
  },
  {
   "cell_type": "code",
   "execution_count": 31,
   "id": "dc91369e-05c4-4b04-b045-951d7d20bd47",
   "metadata": {},
   "outputs": [
    {
     "ename": "NameError",
     "evalue": "name 'sampling_rate' is not defined",
     "output_type": "error",
     "traceback": [
      "\u001b[0;31m---------------------------------------------------------------------------\u001b[0m",
      "\u001b[0;31mNameError\u001b[0m                                 Traceback (most recent call last)",
      "Cell \u001b[0;32mIn[31], line 4\u001b[0m\n\u001b[1;32m      1\u001b[0m \u001b[38;5;66;03m# If the audio's sampling rate doesn't match the ASR model's sampling rate, resample it\u001b[39;00m\n\u001b[1;32m      2\u001b[0m asr_sampling_rate \u001b[38;5;241m=\u001b[39m asr\u001b[38;5;241m.\u001b[39mfeature_extractor\u001b[38;5;241m.\u001b[39msampling_rate\n\u001b[0;32m----> 4\u001b[0m \u001b[38;5;28;01mif\u001b[39;00m sampling_rate \u001b[38;5;241m!=\u001b[39m asr_sampling_rate:\n\u001b[1;32m      5\u001b[0m     audio_resampled \u001b[38;5;241m=\u001b[39m librosa\u001b[38;5;241m.\u001b[39mresample(audio_mono, orig_sr\u001b[38;5;241m=\u001b[39msampling_rate, target_sr\u001b[38;5;241m=\u001b[39masr_sampling_rate)\n\u001b[1;32m      6\u001b[0m     \u001b[38;5;28mprint\u001b[39m(\u001b[38;5;124mf\u001b[39m\u001b[38;5;124m\"\u001b[39m\u001b[38;5;124mResampled audio to \u001b[39m\u001b[38;5;132;01m{\u001b[39;00masr_sampling_rate\u001b[38;5;132;01m}\u001b[39;00m\u001b[38;5;124m Hz.\u001b[39m\u001b[38;5;124m\"\u001b[39m)\n",
      "\u001b[0;31mNameError\u001b[0m: name 'sampling_rate' is not defined"
     ]
    }
   ],
   "source": [
    "# If the audio's sampling rate doesn't match the ASR model's sampling rate, resample it\n",
    "asr_sampling_rate = asr.feature_extractor.sampling_rate\n",
    "\n",
    "if sampling_rate != asr_sampling_rate:\n",
    "    audio_resampled = librosa.resample(audio_mono, orig_sr=sampling_rate, target_sr=asr_sampling_rate)\n",
    "    print(f\"Resampled audio to {asr_sampling_rate} Hz.\")\n",
    "else:\n",
    "    audio_resampled = audio_mono\n"
   ]
  },
  {
   "cell_type": "markdown",
   "id": "b0cb86c2-3aaf-4a85-a324-9918b59e04c3",
   "metadata": {},
   "source": [
    "Cell 11: Perform ASR on the resampled audio\n"
   ]
  },
  {
   "cell_type": "code",
   "execution_count": 34,
   "id": "eed73405-297e-4607-8676-bcabe8518d37",
   "metadata": {},
   "outputs": [
    {
     "ename": "NameError",
     "evalue": "name 'audio_resampled' is not defined",
     "output_type": "error",
     "traceback": [
      "\u001b[0;31m---------------------------------------------------------------------------\u001b[0m",
      "\u001b[0;31mNameError\u001b[0m                                 Traceback (most recent call last)",
      "Cell \u001b[0;32mIn[34], line 2\u001b[0m\n\u001b[1;32m      1\u001b[0m \u001b[38;5;66;03m# Perform automatic speech recognition on the resampled audio\u001b[39;00m\n\u001b[0;32m----> 2\u001b[0m transcription \u001b[38;5;241m=\u001b[39m asr(audio_resampled, chunk_length_s\u001b[38;5;241m=\u001b[39m\u001b[38;5;241m30\u001b[39m, batch_size\u001b[38;5;241m=\u001b[39m\u001b[38;5;241m4\u001b[39m, return_timestamps\u001b[38;5;241m=\u001b[39m\u001b[38;5;28;01mTrue\u001b[39;00m)\n\u001b[1;32m      4\u001b[0m \u001b[38;5;66;03m# Display the ASR output with timestamps\u001b[39;00m\n\u001b[1;32m      5\u001b[0m \u001b[38;5;28mprint\u001b[39m(transcription[\u001b[38;5;124m\"\u001b[39m\u001b[38;5;124mchunks\u001b[39m\u001b[38;5;124m\"\u001b[39m])\n",
      "\u001b[0;31mNameError\u001b[0m: name 'audio_resampled' is not defined"
     ]
    }
   ],
   "source": [
    "# Perform automatic speech recognition on the resampled audio\n",
    "transcription = asr(audio_resampled, chunk_length_s=30, batch_size=4, return_timestamps=True)\n",
    "\n",
    "# Display the ASR output with timestamps\n",
    "print(transcription[\"chunks\"])\n"
   ]
  },
  {
   "cell_type": "markdown",
   "id": "b81326e4-296a-4a16-bd33-cbec721568a6",
   "metadata": {},
   "source": [
    "Cell 12: Build a Gradio interface for long-form audio transcription\n"
   ]
  },
  {
   "cell_type": "code",
   "execution_count": 37,
   "id": "01b54113-9f61-4ca8-9c31-789aae835583",
   "metadata": {},
   "outputs": [
    {
     "ename": "TypeError",
     "evalue": "Audio.__init__() got an unexpected keyword argument 'source'",
     "output_type": "error",
     "traceback": [
      "\u001b[0;31m---------------------------------------------------------------------------\u001b[0m",
      "\u001b[0;31mTypeError\u001b[0m                                 Traceback (most recent call last)",
      "Cell \u001b[0;32mIn[37], line 14\u001b[0m\n\u001b[1;32m      9\u001b[0m     \u001b[38;5;28;01mreturn\u001b[39;00m output[\u001b[38;5;124m\"\u001b[39m\u001b[38;5;124mtext\u001b[39m\u001b[38;5;124m\"\u001b[39m]\n\u001b[1;32m     11\u001b[0m \u001b[38;5;66;03m# Build the Gradio interface for microphone input\u001b[39;00m\n\u001b[1;32m     12\u001b[0m mic_transcribe \u001b[38;5;241m=\u001b[39m gr\u001b[38;5;241m.\u001b[39mInterface(\n\u001b[1;32m     13\u001b[0m     fn\u001b[38;5;241m=\u001b[39mtranscribe_long_form,\n\u001b[0;32m---> 14\u001b[0m     inputs\u001b[38;5;241m=\u001b[39mgr\u001b[38;5;241m.\u001b[39mAudio(source\u001b[38;5;241m=\u001b[39m\u001b[38;5;124m\"\u001b[39m\u001b[38;5;124mmicrophone\u001b[39m\u001b[38;5;124m\"\u001b[39m, \u001b[38;5;28mtype\u001b[39m\u001b[38;5;241m=\u001b[39m\u001b[38;5;124m\"\u001b[39m\u001b[38;5;124mfilepath\u001b[39m\u001b[38;5;124m\"\u001b[39m),\n\u001b[1;32m     15\u001b[0m     outputs\u001b[38;5;241m=\u001b[39mgr\u001b[38;5;241m.\u001b[39mTextbox(label\u001b[38;5;241m=\u001b[39m\u001b[38;5;124m\"\u001b[39m\u001b[38;5;124mTranscription\u001b[39m\u001b[38;5;124m\"\u001b[39m, lines\u001b[38;5;241m=\u001b[39m\u001b[38;5;241m3\u001b[39m),\n\u001b[1;32m     16\u001b[0m     allow_flagging\u001b[38;5;241m=\u001b[39m\u001b[38;5;124m\"\u001b[39m\u001b[38;5;124mnever\u001b[39m\u001b[38;5;124m\"\u001b[39m\n\u001b[1;32m     17\u001b[0m )\n\u001b[1;32m     19\u001b[0m \u001b[38;5;66;03m# Build the Gradio interface for file upload input\u001b[39;00m\n\u001b[1;32m     20\u001b[0m file_transcribe \u001b[38;5;241m=\u001b[39m gr\u001b[38;5;241m.\u001b[39mInterface(\n\u001b[1;32m     21\u001b[0m     fn\u001b[38;5;241m=\u001b[39mtranscribe_long_form,\n\u001b[1;32m     22\u001b[0m     inputs\u001b[38;5;241m=\u001b[39mgr\u001b[38;5;241m.\u001b[39mAudio(source\u001b[38;5;241m=\u001b[39m\u001b[38;5;124m\"\u001b[39m\u001b[38;5;124mupload\u001b[39m\u001b[38;5;124m\"\u001b[39m, \u001b[38;5;28mtype\u001b[39m\u001b[38;5;241m=\u001b[39m\u001b[38;5;124m\"\u001b[39m\u001b[38;5;124mfilepath\u001b[39m\u001b[38;5;124m\"\u001b[39m),\n\u001b[1;32m     23\u001b[0m     outputs\u001b[38;5;241m=\u001b[39mgr\u001b[38;5;241m.\u001b[39mTextbox(label\u001b[38;5;241m=\u001b[39m\u001b[38;5;124m\"\u001b[39m\u001b[38;5;124mTranscription\u001b[39m\u001b[38;5;124m\"\u001b[39m, lines\u001b[38;5;241m=\u001b[39m\u001b[38;5;241m3\u001b[39m),\n\u001b[1;32m     24\u001b[0m     allow_flagging\u001b[38;5;241m=\u001b[39m\u001b[38;5;124m\"\u001b[39m\u001b[38;5;124mnever\u001b[39m\u001b[38;5;124m\"\u001b[39m\n\u001b[1;32m     25\u001b[0m )\n",
      "File \u001b[0;32m~/anaconda3/lib/python3.11/site-packages/gradio/component_meta.py:167\u001b[0m, in \u001b[0;36mupdateable.<locals>.wrapper\u001b[0;34m(*args, **kwargs)\u001b[0m\n\u001b[1;32m    165\u001b[0m     \u001b[38;5;28;01mreturn\u001b[39;00m \u001b[38;5;28;01mNone\u001b[39;00m\n\u001b[1;32m    166\u001b[0m \u001b[38;5;28;01melse\u001b[39;00m:\n\u001b[0;32m--> 167\u001b[0m     \u001b[38;5;28;01mreturn\u001b[39;00m fn(\u001b[38;5;28mself\u001b[39m, \u001b[38;5;241m*\u001b[39m\u001b[38;5;241m*\u001b[39mkwargs)\n",
      "\u001b[0;31mTypeError\u001b[0m: Audio.__init__() got an unexpected keyword argument 'source'"
     ]
    }
   ],
   "source": [
    "# Define a new function to handle long-form transcription\n",
    "def transcribe_long_form(filepath):\n",
    "    if filepath is None:\n",
    "        gr.Warning(\"No audio found, please retry.\")\n",
    "        return \"\"\n",
    "    \n",
    "    # Process long audio files with chunking and batching for better performance\n",
    "    output = asr(filepath, max_new_tokens=256, chunk_length_s=30, batch_size=8)\n",
    "    return output[\"text\"]\n",
    "\n",
    "# Build the Gradio interface for microphone input\n",
    "mic_transcribe = gr.Interface(\n",
    "    fn=transcribe_long_form,\n",
    "    inputs=gr.Audio(source=\"microphone\", type=\"filepath\"),\n",
    "    outputs=gr.Textbox(label=\"Transcription\", lines=3),\n",
    "    allow_flagging=\"never\"\n",
    ")\n",
    "\n",
    "# Build the Gradio interface for file upload input\n",
    "file_transcribe = gr.Interface(\n",
    "    fn=transcribe_long_form,\n",
    "    inputs=gr.Audio(source=\"upload\", type=\"filepath\"),\n",
    "    outputs=gr.Textbox(label=\"Transcription\", lines=3),\n",
    "    allow_flagging=\"never\"\n",
    ")\n"
   ]
  },
  {
   "cell_type": "markdown",
   "id": "f3a852f8-2522-4f38-908b-ab51fa823905",
   "metadata": {},
   "source": [
    "Cell 13: Set up the tabbed interface for long-form audio transcription"
   ]
  },
  {
   "cell_type": "code",
   "execution_count": 40,
   "id": "ac81051d-8135-46f9-a58c-6d57c3c29f7d",
   "metadata": {},
   "outputs": [
    {
     "ename": "NameError",
     "evalue": "name 'mic_transcribe' is not defined",
     "output_type": "error",
     "traceback": [
      "\u001b[0;31m---------------------------------------------------------------------------\u001b[0m",
      "\u001b[0;31mNameError\u001b[0m                                 Traceback (most recent call last)",
      "Cell \u001b[0;32mIn[40], line 6\u001b[0m\n\u001b[1;32m      2\u001b[0m demo \u001b[38;5;241m=\u001b[39m gr\u001b[38;5;241m.\u001b[39mBlocks()\n\u001b[1;32m      4\u001b[0m \u001b[38;5;28;01mwith\u001b[39;00m demo:\n\u001b[1;32m      5\u001b[0m     gr\u001b[38;5;241m.\u001b[39mTabbedInterface(\n\u001b[0;32m----> 6\u001b[0m         [mic_transcribe, file_transcribe],\n\u001b[1;32m      7\u001b[0m         [\u001b[38;5;124m\"\u001b[39m\u001b[38;5;124mTranscribe Microphone\u001b[39m\u001b[38;5;124m\"\u001b[39m, \u001b[38;5;124m\"\u001b[39m\u001b[38;5;124mTranscribe Audio File\u001b[39m\u001b[38;5;124m\"\u001b[39m]\n\u001b[1;32m      8\u001b[0m     )\n\u001b[1;32m     10\u001b[0m \u001b[38;5;66;03m# Launch the demo with the ability to share it online\u001b[39;00m\n\u001b[1;32m     11\u001b[0m demo\u001b[38;5;241m.\u001b[39mlaunch(share\u001b[38;5;241m=\u001b[39m\u001b[38;5;28;01mTrue\u001b[39;00m, server_port\u001b[38;5;241m=\u001b[39m\u001b[38;5;28mint\u001b[39m(os\u001b[38;5;241m.\u001b[39menviron\u001b[38;5;241m.\u001b[39mget(\u001b[38;5;124m'\u001b[39m\u001b[38;5;124mPORT1\u001b[39m\u001b[38;5;124m'\u001b[39m, \u001b[38;5;241m7860\u001b[39m)))\n",
      "\u001b[0;31mNameError\u001b[0m: name 'mic_transcribe' is not defined"
     ]
    }
   ],
   "source": [
    "# Set up the Gradio Blocks interface for long-form audio transcription\n",
    "demo = gr.Blocks()\n",
    "\n",
    "with demo:\n",
    "    gr.TabbedInterface(\n",
    "        [mic_transcribe, file_transcribe],\n",
    "        [\"Transcribe Microphone\", \"Transcribe Audio File\"]\n",
    "    )\n",
    "\n",
    "# Launch the demo with the ability to share it online\n",
    "demo.launch(share=True, server_port=int(os.environ.get('PORT1', 7860)))\n"
   ]
  },
  {
   "cell_type": "markdown",
   "id": "a81149ca-8848-4d82-b9c7-f86f3747dafc",
   "metadata": {},
   "source": [
    "Cell 14: Close the Gradio app to avoid conflicts"
   ]
  },
  {
   "cell_type": "code",
   "execution_count": 43,
   "id": "dbe658af-5a03-4f65-8dd5-8e1c1da65a5a",
   "metadata": {},
   "outputs": [],
   "source": [
    "# Stop the Gradio demo to free up resources for future apps\n",
    "demo.close()\n"
   ]
  }
 ],
 "metadata": {
  "kernelspec": {
   "display_name": "Python 3 (ipykernel)",
   "language": "python",
   "name": "python3"
  },
  "language_info": {
   "codemirror_mode": {
    "name": "ipython",
    "version": 3
   },
   "file_extension": ".py",
   "mimetype": "text/x-python",
   "name": "python",
   "nbconvert_exporter": "python",
   "pygments_lexer": "ipython3",
   "version": "3.11.5"
  }
 },
 "nbformat": 4,
 "nbformat_minor": 5
}
