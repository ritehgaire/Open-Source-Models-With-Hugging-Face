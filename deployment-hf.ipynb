{
 "cells": [
  {
   "cell_type": "markdown",
   "id": "6ab46cd7-64b9-404a-b2c2-a96d4766bd92",
   "metadata": {},
   "source": [
    "App using prebuild and traiend transformers. Image captioning API"
   ]
  },
  {
   "cell_type": "code",
   "execution_count": 71,
   "id": "d90779bc-0a31-4725-b5cf-7efd226dd3bc",
   "metadata": {},
   "outputs": [],
   "source": [
    "from transformers.utils import logging\n",
    "logging.set_verbosity_error()\n",
    "\n",
    "import warnings\n",
    "warnings.filterwarnings(\"ignore\", \n",
    "                        message=\"Using the model-agnostic default `max_length`\")"
   ]
  },
  {
   "cell_type": "code",
   "execution_count": 73,
   "id": "be2bb37a-d08a-4822-af47-4a656622a03e",
   "metadata": {},
   "outputs": [],
   "source": [
    "import gradio as gr\n",
    "from transformers import pipeline\n",
    "\n",
    "pipe = pipeline(\"image-to-text\",\n",
    "                model=\"Salesforce/blip-image-captioning-base\")"
   ]
  },
  {
   "cell_type": "code",
   "execution_count": 74,
   "id": "26a9d168-6f10-48e1-86fd-98674d8ccd35",
   "metadata": {},
   "outputs": [],
   "source": [
    "def launch(input):\n",
    "    out = pipe(input)\n",
    "    return out[0]['generated_text']"
   ]
  },
  {
   "cell_type": "code",
   "execution_count": 75,
   "id": "1d4ec886-2ab2-4a26-9ad3-6103e21c057b",
   "metadata": {},
   "outputs": [
    {
     "name": "stdout",
     "output_type": "stream",
     "text": [
      "Running on local URL:  http://127.0.0.1:7866\n",
      "\n",
      "To create a public link, set `share=True` in `launch()`.\n"
     ]
    },
    {
     "data": {
      "text/html": [
       "<div><iframe src=\"http://127.0.0.1:7866/\" width=\"100%\" height=\"500\" allow=\"autoplay; camera; microphone; clipboard-read; clipboard-write;\" frameborder=\"0\" allowfullscreen></iframe></div>"
      ],
      "text/plain": [
       "<IPython.core.display.HTML object>"
      ]
     },
     "metadata": {},
     "output_type": "display_data"
    },
    {
     "data": {
      "text/plain": []
     },
     "execution_count": 75,
     "metadata": {},
     "output_type": "execute_result"
    }
   ],
   "source": [
    "iface = gr.Interface(launch,\n",
    "                     inputs=gr.Image(type='pil'),\n",
    "                     outputs=\"text\")\n",
    "\n",
    "iface.launch()"
   ]
  },
  {
   "cell_type": "markdown",
   "id": "a4c9bba3-11dc-489d-ae21-feda24b760ad",
   "metadata": {},
   "source": [
    "Calling a model as an API in a local host. Note that if you run into issues when making an API call to your own space, you can try to upgrade your version of gradio_client: \n",
    "pip install -U gradio_client"
   ]
  },
  {
   "cell_type": "code",
   "execution_count": 79,
   "id": "9179870d-1587-455e-be90-9ae8e0e92c6e",
   "metadata": {},
   "outputs": [
    {
     "name": "stdout",
     "output_type": "stream",
     "text": [
      "Loaded as API: https://ritesh1111-image-cap-api.hf.space ✔\n",
      "a red bus with a blue stripe on the side\n"
     ]
    }
   ],
   "source": [
    "from gradio_client import Client, handle_file\n",
    "\n",
    "client = Client(\"Ritesh1111/image-cap-api\")\n",
    "result = client.predict(\n",
    "\t\tinput=handle_file('https://raw.githubusercontent.com/gradio-app/gradio/main/test/test_files/bus.png'),\n",
    "\t\tapi_name=\"/predict\"\n",
    ")\n",
    "print(result)"
   ]
  },
  {
   "cell_type": "code",
   "execution_count": 81,
   "id": "dc6d0e22-e824-4621-85e2-79908c7f9152",
   "metadata": {},
   "outputs": [],
   "source": [
    "To more info about the image, use view method"
   ]
  },
  {
   "cell_type": "code",
   "execution_count": 83,
   "id": "678ee453-2fbc-4615-ad1d-f640716275b8",
   "metadata": {},
   "outputs": [
    {
     "name": "stdout",
     "output_type": "stream",
     "text": [
      "Client.predict() Usage Info\n",
      "---------------------------\n",
      "Named API endpoints: 1\n",
      "\n",
      " - predict(input, api_name=\"/predict\") -> output\n",
      "    Parameters:\n",
      "     - [Image] input: filepath (required)  \n",
      "    Returns:\n",
      "     - [Textbox] output: str \n",
      "\n"
     ]
    }
   ],
   "source": [
    "client.view_api()"
   ]
  },
  {
   "cell_type": "code",
   "execution_count": null,
   "id": "ede89cdb-b4a6-423b-bc5c-49508ba385fa",
   "metadata": {},
   "outputs": [],
   "source": [
    "You can modify the API call to include your access token."
   ]
  },
  {
   "cell_type": "markdown",
   "id": "4f6bf276-cc63-4378-9133-3860e685224f",
   "metadata": {},
   "source": [
    "from gradio_client import Client\n",
    "\n",
    "client = Client(\"eddyS/blip-image-captioning-2\",\n",
    "                hf_token=hf_access_token\n",
    "               )\n",
    "result = client.predict(\n",
    "        \"kittens.jpg\",\n",
    "        api_name=\"/predict\"\n",
    ")\n",
    "print(result)\n",
    "# client = Client(\"abidlabs/whisper-large-v2\", \n",
    ")"
   ]
  },
  {
   "cell_type": "markdown",
   "id": "76547114-8cbd-4b34-8428-0c29fc0b841d",
   "metadata": {},
   "source": [
    "Saving the access token securely\n",
    "\n",
    "It's recommended that you not hard code the access token.\n",
    "\n",
    "HF_TOKEN=\"abc1234\" # not recommended\n",
    "You can save your access token to a file \".env\"\n",
    "HF_ACCESS_TOKEN=\"abc123\"\n",
    "Then access that environment variable with the dotenv library\n",
    "\n",
    "# !pip install python-dotenv # install library\n",
    "from dotenv import load_dotenv, find_dotenv\n",
    "import os\n",
    "_ = load_dotenv(find_dotenv())\n",
    "hf_access_token = os.getenv(\"HF_ACCESS_TOKEN\")"
   ]
  },
  {
   "cell_type": "markdown",
   "id": "ae67e849-ab07-4707-af2e-6454e0a14013",
   "metadata": {},
   "source": [
    "Using GPU and higher level deployment. \n",
    "ZeroGpu Explorers (Zero-beta). Join the org. GPU option will be available while creating a space. "
   ]
  },
  {
   "cell_type": "code",
   "execution_count": null,
   "id": "77a558a2-86ad-40ac-9ef8-40237a9c863a",
   "metadata": {},
   "outputs": [],
   "source": []
  }
 ],
 "metadata": {
  "kernelspec": {
   "display_name": "Python 3 (ipykernel)",
   "language": "python",
   "name": "python3"
  },
  "language_info": {
   "codemirror_mode": {
    "name": "ipython",
    "version": 3
   },
   "file_extension": ".py",
   "mimetype": "text/x-python",
   "name": "python",
   "nbconvert_exporter": "python",
   "pygments_lexer": "ipython3",
   "version": "3.11.5"
  }
 },
 "nbformat": 4,
 "nbformat_minor": 5
}
