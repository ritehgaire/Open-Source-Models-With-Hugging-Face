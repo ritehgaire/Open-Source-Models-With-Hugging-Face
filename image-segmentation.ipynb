{
 "cells": [
  {
   "cell_type": "markdown",
   "id": "22a0f272-40ae-40f2-a0a0-ed9e34e4e6ad",
   "metadata": {},
   "source": [
    "Cell 1: Install necessary libraries"
   ]
  },
  {
   "cell_type": "code",
   "execution_count": 1,
   "id": "877ce6d7-7da0-4189-b832-02a665c7cce4",
   "metadata": {},
   "outputs": [
    {
     "name": "stdout",
     "output_type": "stream",
     "text": [
      "Requirement already satisfied: transformers in /Users/riteshgaire/anaconda3/lib/python3.11/site-packages (4.37.2)\n",
      "Requirement already satisfied: filelock in /Users/riteshgaire/.local/lib/python3.11/site-packages (from transformers) (3.13.1)\n",
      "Requirement already satisfied: huggingface-hub<1.0,>=0.19.3 in /Users/riteshgaire/anaconda3/lib/python3.11/site-packages (from transformers) (0.24.6)\n",
      "Requirement already satisfied: numpy>=1.17 in /Users/riteshgaire/anaconda3/lib/python3.11/site-packages (from transformers) (1.26.4)\n",
      "Requirement already satisfied: packaging>=20.0 in /Users/riteshgaire/anaconda3/lib/python3.11/site-packages (from transformers) (23.2)\n",
      "Requirement already satisfied: pyyaml>=5.1 in /Users/riteshgaire/anaconda3/lib/python3.11/site-packages (from transformers) (6.0.1)\n",
      "Requirement already satisfied: regex!=2019.12.17 in /Users/riteshgaire/anaconda3/lib/python3.11/site-packages (from transformers) (2023.10.3)\n",
      "Requirement already satisfied: requests in /Users/riteshgaire/anaconda3/lib/python3.11/site-packages (from transformers) (2.32.3)\n",
      "Requirement already satisfied: tokenizers<0.19,>=0.14 in /Users/riteshgaire/anaconda3/lib/python3.11/site-packages (from transformers) (0.15.1)\n",
      "Requirement already satisfied: safetensors>=0.4.1 in /Users/riteshgaire/anaconda3/lib/python3.11/site-packages (from transformers) (0.4.2)\n",
      "Requirement already satisfied: tqdm>=4.27 in /Users/riteshgaire/anaconda3/lib/python3.11/site-packages (from transformers) (4.66.5)\n",
      "Requirement already satisfied: fsspec>=2023.5.0 in /Users/riteshgaire/anaconda3/lib/python3.11/site-packages (from huggingface-hub<1.0,>=0.19.3->transformers) (2023.10.0)\n",
      "Requirement already satisfied: typing-extensions>=3.7.4.3 in /Users/riteshgaire/anaconda3/lib/python3.11/site-packages (from huggingface-hub<1.0,>=0.19.3->transformers) (4.12.2)\n",
      "Requirement already satisfied: charset-normalizer<4,>=2 in /Users/riteshgaire/anaconda3/lib/python3.11/site-packages (from requests->transformers) (2.0.4)\n",
      "Requirement already satisfied: idna<4,>=2.5 in /Users/riteshgaire/anaconda3/lib/python3.11/site-packages (from requests->transformers) (3.4)\n",
      "Requirement already satisfied: urllib3<3,>=1.21.1 in /Users/riteshgaire/anaconda3/lib/python3.11/site-packages (from requests->transformers) (2.0.7)\n",
      "Requirement already satisfied: certifi>=2017.4.17 in /Users/riteshgaire/anaconda3/lib/python3.11/site-packages (from requests->transformers) (2024.6.2)\n",
      "Requirement already satisfied: gradio in /Users/riteshgaire/anaconda3/lib/python3.11/site-packages (4.42.0)\n",
      "Requirement already satisfied: aiofiles<24.0,>=22.0 in /Users/riteshgaire/anaconda3/lib/python3.11/site-packages (from gradio) (23.2.1)\n",
      "Requirement already satisfied: anyio<5.0,>=3.0 in /Users/riteshgaire/anaconda3/lib/python3.11/site-packages (from gradio) (4.2.0)\n",
      "Requirement already satisfied: fastapi in /Users/riteshgaire/anaconda3/lib/python3.11/site-packages (from gradio) (0.112.2)\n",
      "Requirement already satisfied: ffmpy in /Users/riteshgaire/anaconda3/lib/python3.11/site-packages (from gradio) (0.4.0)\n",
      "Requirement already satisfied: gradio-client==1.3.0 in /Users/riteshgaire/anaconda3/lib/python3.11/site-packages (from gradio) (1.3.0)\n",
      "Requirement already satisfied: httpx>=0.24.1 in /Users/riteshgaire/anaconda3/lib/python3.11/site-packages (from gradio) (0.26.0)\n",
      "Requirement already satisfied: huggingface-hub>=0.19.3 in /Users/riteshgaire/anaconda3/lib/python3.11/site-packages (from gradio) (0.24.6)\n",
      "Requirement already satisfied: importlib-resources<7.0,>=1.3 in /Users/riteshgaire/anaconda3/lib/python3.11/site-packages (from gradio) (6.4.4)\n",
      "Requirement already satisfied: jinja2<4.0 in /Users/riteshgaire/anaconda3/lib/python3.11/site-packages (from gradio) (3.1.3)\n",
      "Requirement already satisfied: markupsafe~=2.0 in /Users/riteshgaire/anaconda3/lib/python3.11/site-packages (from gradio) (2.1.3)\n",
      "Requirement already satisfied: matplotlib~=3.0 in /Users/riteshgaire/anaconda3/lib/python3.11/site-packages (from gradio) (3.8.0)\n",
      "Requirement already satisfied: numpy<3.0,>=1.0 in /Users/riteshgaire/anaconda3/lib/python3.11/site-packages (from gradio) (1.26.4)\n",
      "Requirement already satisfied: orjson~=3.0 in /Users/riteshgaire/anaconda3/lib/python3.11/site-packages (from gradio) (3.10.7)\n",
      "Requirement already satisfied: packaging in /Users/riteshgaire/anaconda3/lib/python3.11/site-packages (from gradio) (23.2)\n",
      "Requirement already satisfied: pandas<3.0,>=1.0 in /Users/riteshgaire/anaconda3/lib/python3.11/site-packages (from gradio) (2.1.4)\n",
      "Requirement already satisfied: pillow<11.0,>=8.0 in /Users/riteshgaire/anaconda3/lib/python3.11/site-packages (from gradio) (10.2.0)\n",
      "Requirement already satisfied: pydantic>=2.0 in /Users/riteshgaire/anaconda3/lib/python3.11/site-packages (from gradio) (2.5.3)\n",
      "Requirement already satisfied: pydub in /Users/riteshgaire/anaconda3/lib/python3.11/site-packages (from gradio) (0.25.1)\n",
      "Requirement already satisfied: python-multipart>=0.0.9 in /Users/riteshgaire/anaconda3/lib/python3.11/site-packages (from gradio) (0.0.9)\n",
      "Requirement already satisfied: pyyaml<7.0,>=5.0 in /Users/riteshgaire/anaconda3/lib/python3.11/site-packages (from gradio) (6.0.1)\n",
      "Requirement already satisfied: ruff>=0.2.2 in /Users/riteshgaire/anaconda3/lib/python3.11/site-packages (from gradio) (0.6.3)\n",
      "Requirement already satisfied: semantic-version~=2.0 in /Users/riteshgaire/anaconda3/lib/python3.11/site-packages (from gradio) (2.10.0)\n",
      "Requirement already satisfied: tomlkit==0.12.0 in /Users/riteshgaire/anaconda3/lib/python3.11/site-packages (from gradio) (0.12.0)\n",
      "Requirement already satisfied: typer<1.0,>=0.12 in /Users/riteshgaire/anaconda3/lib/python3.11/site-packages (from gradio) (0.12.5)\n",
      "Requirement already satisfied: typing-extensions~=4.0 in /Users/riteshgaire/anaconda3/lib/python3.11/site-packages (from gradio) (4.12.2)\n",
      "Requirement already satisfied: urllib3~=2.0 in /Users/riteshgaire/anaconda3/lib/python3.11/site-packages (from gradio) (2.0.7)\n",
      "Requirement already satisfied: uvicorn>=0.14.0 in /Users/riteshgaire/anaconda3/lib/python3.11/site-packages (from gradio) (0.30.6)\n",
      "Requirement already satisfied: fsspec in /Users/riteshgaire/anaconda3/lib/python3.11/site-packages (from gradio-client==1.3.0->gradio) (2023.10.0)\n",
      "Requirement already satisfied: websockets<13.0,>=10.0 in /Users/riteshgaire/anaconda3/lib/python3.11/site-packages (from gradio-client==1.3.0->gradio) (12.0)\n",
      "Requirement already satisfied: idna>=2.8 in /Users/riteshgaire/anaconda3/lib/python3.11/site-packages (from anyio<5.0,>=3.0->gradio) (3.4)\n",
      "Requirement already satisfied: sniffio>=1.1 in /Users/riteshgaire/anaconda3/lib/python3.11/site-packages (from anyio<5.0,>=3.0->gradio) (1.3.0)\n",
      "Requirement already satisfied: certifi in /Users/riteshgaire/anaconda3/lib/python3.11/site-packages (from httpx>=0.24.1->gradio) (2024.6.2)\n",
      "Requirement already satisfied: httpcore==1.* in /Users/riteshgaire/anaconda3/lib/python3.11/site-packages (from httpx>=0.24.1->gradio) (1.0.2)\n",
      "Requirement already satisfied: h11<0.15,>=0.13 in /Users/riteshgaire/anaconda3/lib/python3.11/site-packages (from httpcore==1.*->httpx>=0.24.1->gradio) (0.14.0)\n",
      "Requirement already satisfied: filelock in /Users/riteshgaire/.local/lib/python3.11/site-packages (from huggingface-hub>=0.19.3->gradio) (3.13.1)\n",
      "Requirement already satisfied: requests in /Users/riteshgaire/anaconda3/lib/python3.11/site-packages (from huggingface-hub>=0.19.3->gradio) (2.32.3)\n",
      "Requirement already satisfied: tqdm>=4.42.1 in /Users/riteshgaire/anaconda3/lib/python3.11/site-packages (from huggingface-hub>=0.19.3->gradio) (4.66.5)\n",
      "Requirement already satisfied: contourpy>=1.0.1 in /Users/riteshgaire/anaconda3/lib/python3.11/site-packages (from matplotlib~=3.0->gradio) (1.2.0)\n",
      "Requirement already satisfied: cycler>=0.10 in /Users/riteshgaire/anaconda3/lib/python3.11/site-packages (from matplotlib~=3.0->gradio) (0.11.0)\n",
      "Requirement already satisfied: fonttools>=4.22.0 in /Users/riteshgaire/anaconda3/lib/python3.11/site-packages (from matplotlib~=3.0->gradio) (4.25.0)\n",
      "Requirement already satisfied: kiwisolver>=1.0.1 in /Users/riteshgaire/anaconda3/lib/python3.11/site-packages (from matplotlib~=3.0->gradio) (1.4.4)\n",
      "Requirement already satisfied: pyparsing>=2.3.1 in /Users/riteshgaire/anaconda3/lib/python3.11/site-packages (from matplotlib~=3.0->gradio) (3.0.9)\n",
      "Requirement already satisfied: python-dateutil>=2.7 in /Users/riteshgaire/anaconda3/lib/python3.11/site-packages (from matplotlib~=3.0->gradio) (2.8.2)\n",
      "Requirement already satisfied: pytz>=2020.1 in /Users/riteshgaire/anaconda3/lib/python3.11/site-packages (from pandas<3.0,>=1.0->gradio) (2023.3.post1)\n",
      "Requirement already satisfied: tzdata>=2022.1 in /Users/riteshgaire/anaconda3/lib/python3.11/site-packages (from pandas<3.0,>=1.0->gradio) (2023.3)\n",
      "Requirement already satisfied: annotated-types>=0.4.0 in /Users/riteshgaire/anaconda3/lib/python3.11/site-packages (from pydantic>=2.0->gradio) (0.6.0)\n",
      "Requirement already satisfied: pydantic-core==2.14.6 in /Users/riteshgaire/anaconda3/lib/python3.11/site-packages (from pydantic>=2.0->gradio) (2.14.6)\n",
      "Requirement already satisfied: click>=8.0.0 in /Users/riteshgaire/anaconda3/lib/python3.11/site-packages (from typer<1.0,>=0.12->gradio) (8.1.7)\n",
      "Requirement already satisfied: shellingham>=1.3.0 in /Users/riteshgaire/anaconda3/lib/python3.11/site-packages (from typer<1.0,>=0.12->gradio) (1.5.0)\n",
      "Requirement already satisfied: rich>=10.11.0 in /Users/riteshgaire/anaconda3/lib/python3.11/site-packages (from typer<1.0,>=0.12->gradio) (13.7.1)\n",
      "Requirement already satisfied: starlette<0.39.0,>=0.37.2 in /Users/riteshgaire/anaconda3/lib/python3.11/site-packages (from fastapi->gradio) (0.38.4)\n",
      "Requirement already satisfied: six>=1.5 in /Users/riteshgaire/anaconda3/lib/python3.11/site-packages (from python-dateutil>=2.7->matplotlib~=3.0->gradio) (1.16.0)\n",
      "Requirement already satisfied: markdown-it-py>=2.2.0 in /Users/riteshgaire/anaconda3/lib/python3.11/site-packages (from rich>=10.11.0->typer<1.0,>=0.12->gradio) (2.2.0)\n",
      "Requirement already satisfied: pygments<3.0.0,>=2.13.0 in /Users/riteshgaire/anaconda3/lib/python3.11/site-packages (from rich>=10.11.0->typer<1.0,>=0.12->gradio) (2.15.1)\n",
      "Requirement already satisfied: charset-normalizer<4,>=2 in /Users/riteshgaire/anaconda3/lib/python3.11/site-packages (from requests->huggingface-hub>=0.19.3->gradio) (2.0.4)\n",
      "Requirement already satisfied: mdurl~=0.1 in /Users/riteshgaire/anaconda3/lib/python3.11/site-packages (from markdown-it-py>=2.2.0->rich>=10.11.0->typer<1.0,>=0.12->gradio) (0.1.0)\n",
      "Requirement already satisfied: timm in /Users/riteshgaire/anaconda3/lib/python3.11/site-packages (1.0.9)\n",
      "Requirement already satisfied: torch in /Users/riteshgaire/anaconda3/lib/python3.11/site-packages (from timm) (2.2.0.post100)\n",
      "Requirement already satisfied: torchvision in /Users/riteshgaire/anaconda3/lib/python3.11/site-packages (from timm) (0.15.2a0)\n",
      "Requirement already satisfied: pyyaml in /Users/riteshgaire/anaconda3/lib/python3.11/site-packages (from timm) (6.0.1)\n",
      "Requirement already satisfied: huggingface_hub in /Users/riteshgaire/anaconda3/lib/python3.11/site-packages (from timm) (0.24.6)\n",
      "Requirement already satisfied: safetensors in /Users/riteshgaire/anaconda3/lib/python3.11/site-packages (from timm) (0.4.2)\n",
      "Requirement already satisfied: filelock in /Users/riteshgaire/.local/lib/python3.11/site-packages (from huggingface_hub->timm) (3.13.1)\n",
      "Requirement already satisfied: fsspec>=2023.5.0 in /Users/riteshgaire/anaconda3/lib/python3.11/site-packages (from huggingface_hub->timm) (2023.10.0)\n",
      "Requirement already satisfied: packaging>=20.9 in /Users/riteshgaire/anaconda3/lib/python3.11/site-packages (from huggingface_hub->timm) (23.2)\n",
      "Requirement already satisfied: requests in /Users/riteshgaire/anaconda3/lib/python3.11/site-packages (from huggingface_hub->timm) (2.32.3)\n",
      "Requirement already satisfied: tqdm>=4.42.1 in /Users/riteshgaire/anaconda3/lib/python3.11/site-packages (from huggingface_hub->timm) (4.66.5)\n",
      "Requirement already satisfied: typing-extensions>=3.7.4.3 in /Users/riteshgaire/anaconda3/lib/python3.11/site-packages (from huggingface_hub->timm) (4.12.2)\n",
      "Requirement already satisfied: sympy in /Users/riteshgaire/anaconda3/lib/python3.11/site-packages (from torch->timm) (1.12)\n",
      "Requirement already satisfied: networkx in /Users/riteshgaire/anaconda3/lib/python3.11/site-packages (from torch->timm) (3.1)\n",
      "Requirement already satisfied: jinja2 in /Users/riteshgaire/anaconda3/lib/python3.11/site-packages (from torch->timm) (3.1.3)\n",
      "Requirement already satisfied: numpy in /Users/riteshgaire/anaconda3/lib/python3.11/site-packages (from torchvision->timm) (1.26.4)\n",
      "Requirement already satisfied: pillow!=8.3.*,>=5.3.0 in /Users/riteshgaire/anaconda3/lib/python3.11/site-packages (from torchvision->timm) (10.2.0)\n",
      "Requirement already satisfied: MarkupSafe>=2.0 in /Users/riteshgaire/anaconda3/lib/python3.11/site-packages (from jinja2->torch->timm) (2.1.3)\n",
      "Requirement already satisfied: charset-normalizer<4,>=2 in /Users/riteshgaire/anaconda3/lib/python3.11/site-packages (from requests->huggingface_hub->timm) (2.0.4)\n",
      "Requirement already satisfied: idna<4,>=2.5 in /Users/riteshgaire/anaconda3/lib/python3.11/site-packages (from requests->huggingface_hub->timm) (3.4)\n",
      "Requirement already satisfied: urllib3<3,>=1.21.1 in /Users/riteshgaire/anaconda3/lib/python3.11/site-packages (from requests->huggingface_hub->timm) (2.0.7)\n",
      "Requirement already satisfied: certifi>=2017.4.17 in /Users/riteshgaire/anaconda3/lib/python3.11/site-packages (from requests->huggingface_hub->timm) (2024.6.2)\n",
      "Requirement already satisfied: mpmath>=0.19 in /Users/riteshgaire/anaconda3/lib/python3.11/site-packages (from sympy->torch->timm) (1.3.0)\n",
      "Requirement already satisfied: torchvision in /Users/riteshgaire/anaconda3/lib/python3.11/site-packages (0.15.2a0)\n",
      "Requirement already satisfied: numpy in /Users/riteshgaire/anaconda3/lib/python3.11/site-packages (from torchvision) (1.26.4)\n",
      "Requirement already satisfied: requests in /Users/riteshgaire/anaconda3/lib/python3.11/site-packages (from torchvision) (2.32.3)\n",
      "Requirement already satisfied: torch in /Users/riteshgaire/anaconda3/lib/python3.11/site-packages (from torchvision) (2.2.0.post100)\n",
      "Requirement already satisfied: pillow!=8.3.*,>=5.3.0 in /Users/riteshgaire/anaconda3/lib/python3.11/site-packages (from torchvision) (10.2.0)\n",
      "Requirement already satisfied: charset-normalizer<4,>=2 in /Users/riteshgaire/anaconda3/lib/python3.11/site-packages (from requests->torchvision) (2.0.4)\n",
      "Requirement already satisfied: idna<4,>=2.5 in /Users/riteshgaire/anaconda3/lib/python3.11/site-packages (from requests->torchvision) (3.4)\n",
      "Requirement already satisfied: urllib3<3,>=1.21.1 in /Users/riteshgaire/anaconda3/lib/python3.11/site-packages (from requests->torchvision) (2.0.7)\n",
      "Requirement already satisfied: certifi>=2017.4.17 in /Users/riteshgaire/anaconda3/lib/python3.11/site-packages (from requests->torchvision) (2024.6.2)\n",
      "Requirement already satisfied: filelock in /Users/riteshgaire/.local/lib/python3.11/site-packages (from torch->torchvision) (3.13.1)\n",
      "Requirement already satisfied: typing-extensions>=4.8.0 in /Users/riteshgaire/anaconda3/lib/python3.11/site-packages (from torch->torchvision) (4.12.2)\n",
      "Requirement already satisfied: sympy in /Users/riteshgaire/anaconda3/lib/python3.11/site-packages (from torch->torchvision) (1.12)\n",
      "Requirement already satisfied: networkx in /Users/riteshgaire/anaconda3/lib/python3.11/site-packages (from torch->torchvision) (3.1)\n",
      "Requirement already satisfied: jinja2 in /Users/riteshgaire/anaconda3/lib/python3.11/site-packages (from torch->torchvision) (3.1.3)\n",
      "Requirement already satisfied: fsspec in /Users/riteshgaire/anaconda3/lib/python3.11/site-packages (from torch->torchvision) (2023.10.0)\n",
      "Requirement already satisfied: MarkupSafe>=2.0 in /Users/riteshgaire/anaconda3/lib/python3.11/site-packages (from jinja2->torch->torchvision) (2.1.3)\n",
      "Requirement already satisfied: mpmath>=0.19 in /Users/riteshgaire/anaconda3/lib/python3.11/site-packages (from sympy->torch->torchvision) (1.3.0)\n"
     ]
    }
   ],
   "source": [
    "# Install the required libraries if running the code on your local machine.\n",
    "!pip install transformers      # Hugging Face's Transformers library\n",
    "!pip install gradio            # Gradio for creating interactive interfaces\n",
    "!pip install timm              # PyTorch image models\n",
    "!pip install torchvision       # PyTorch's vision library for image processing\n"
   ]
  },
  {
   "cell_type": "markdown",
   "id": "801738e9-ba3a-48de-aaaf-193affefc29a",
   "metadata": {},
   "source": [
    "Cell 2: Suppress warning messages"
   ]
  },
  {
   "cell_type": "code",
   "execution_count": null,
   "id": "303f99db-f8b3-4ef5-991a-beabfaa7096a",
   "metadata": {},
   "outputs": [],
   "source": [
    "# Suppress warning messages from Hugging Face Transformers to keep the output clean.\n",
    "from transformers.utils import logging\n",
    "logging.set_verbosity_error()\n"
   ]
  },
  {
   "cell_type": "markdown",
   "id": "f50551db-2bbe-4d1f-89b7-7d318c9174a2",
   "metadata": {},
   "source": [
    "Cell 3: Mask Generation with SAM"
   ]
  },
  {
   "cell_type": "code",
   "execution_count": null,
   "id": "572c74f3-41af-492d-bf6e-b4e51680c95e",
   "metadata": {},
   "outputs": [],
   "source": [
    "# Import the Hugging Face pipeline for mask generation using the SAM model.\n",
    "from transformers import pipeline\n",
    "\n",
    "# Load the pre-trained SAM model from the specified path. The model is used to generate masks for image segmentation.\n",
    "sam_pipe = pipeline(\"mask-generation\", model=\"./models/Zigeng/SlimSAM-uniform-77\")\n"
   ]
  },
  {
   "cell_type": "markdown",
   "id": "7151a0ff-f8e5-4a06-b823-96cd35b1ee86",
   "metadata": {},
   "source": [
    "Cell 4: Load and preprocess the input image"
   ]
  },
  {
   "cell_type": "code",
   "execution_count": null,
   "id": "84fff478-a94a-4866-940a-83d0a7901905",
   "metadata": {},
   "outputs": [],
   "source": [
    "# Load the input image using PIL and resize it for the segmentation pipeline.\n",
    "from PIL import Image\n",
    "raw_image = Image.open('meta_llamas.jpg')  # Open an image file\n",
    "raw_image = raw_image.resize((720, 375))   # Resize the image to a fixed size for processing\n"
   ]
  },
  {
   "cell_type": "markdown",
   "id": "d9fe380d-70d9-4347-a70a-44eec8928b2e",
   "metadata": {},
   "source": [
    "Cell 5: Run the segmentation pipeline\n"
   ]
  },
  {
   "cell_type": "code",
   "execution_count": null,
   "id": "fdfd5ccb-6c3f-43e8-a5a8-b81dfe50856e",
   "metadata": {},
   "outputs": [],
   "source": [
    "# Run the SAM pipeline on the raw image with specified batch size. The points_per_batch argument controls the efficiency of the model inference.\n",
    "# A higher value of 'points_per_batch' will make the inference faster.\n",
    "output = sam_pipe(raw_image, points_per_batch=32)\n"
   ]
  },
  {
   "cell_type": "markdown",
   "id": "23be6a88-29ce-4f0a-9580-793ccb64e441",
   "metadata": {},
   "source": [
    "Cell 6: Visualize the generated masks"
   ]
  },
  {
   "cell_type": "code",
   "execution_count": null,
   "id": "6d4aecb0-0481-4201-8d23-6c60f70270d4",
   "metadata": {},
   "outputs": [],
   "source": [
    "# Visualize the segmentation masks generated by the SAM pipeline. \n",
    "# The 'show_pipe_masks_on_image' function displays the masks overlaid on the input image.\n",
    "from helper import show_pipe_masks_on_image\n",
    "show_pipe_masks_on_image(raw_image, output)  # Display masks on the original image\n"
   ]
  },
  {
   "cell_type": "markdown",
   "id": "23d8d9b9-3482-4f93-b8bc-ed8626e30a14",
   "metadata": {},
   "source": [
    "Cell 7: Faster inference for a single point"
   ]
  },
  {
   "cell_type": "code",
   "execution_count": null,
   "id": "64db9e65-4750-4f2a-ab6a-f9b4296d0b8b",
   "metadata": {},
   "outputs": [],
   "source": [
    "# Import the SAM model and processor for faster inference.\n",
    "from transformers import SamModel, SamProcessor\n",
    "\n",
    "# Load the SAM model and processor for single-point segmentation.\n",
    "model = SamModel.from_pretrained(\"./models/Zigeng/SlimSAM-uniform-77\")\n",
    "processor = SamProcessor.from_pretrained(\"./models/Zigeng/SlimSAM-uniform-77\")\n",
    "\n",
    "# Resize the raw image as before for consistency in processing.\n",
    "raw_image = raw_image.resize((720, 375))\n"
   ]
  },
  {
   "cell_type": "markdown",
   "id": "6988f003-f638-4975-8304-79ca1dec3a43",
   "metadata": {},
   "source": [
    "Cell 8: Define a single point for segmentation\n"
   ]
  },
  {
   "cell_type": "code",
   "execution_count": null,
   "id": "5a12d6b8-0cac-45e8-8ef4-3b3101db791e",
   "metadata": {},
   "outputs": [],
   "source": [
    "# Define a 2D point in the image where you want to focus segmentation. \n",
    "# For example, this point might correspond to a region of interest (e.g., a blue shirt).\n",
    "input_points = [[[1600, 700]]]  # Example 2D point in the image that corresponds to the region of interest.\n"
   ]
  },
  {
   "cell_type": "markdown",
   "id": "5487d309-8850-4f80-8acd-20caf3fa2ffc",
   "metadata": {},
   "source": [
    "Cell 9: Prepare inputs for the model\n"
   ]
  },
  {
   "cell_type": "code",
   "execution_count": null,
   "id": "6df0128b-5804-401d-ada6-a18edf716595",
   "metadata": {},
   "outputs": [],
   "source": [
    "# Prepare the inputs for the model using the image and the single point. The processor creates the necessary tensors.\n",
    "# The return_tensors=\"pt\" argument ensures that the inputs are returned as PyTorch tensors.\n",
    "inputs = processor(raw_image, input_points=input_points, return_tensors=\"pt\")\n"
   ]
  },
  {
   "cell_type": "markdown",
   "id": "39b375df-0e6e-48b1-a0ab-4e518c6617f7",
   "metadata": {},
   "source": [
    "Cell 10: Run the model and get the predicted mask\n"
   ]
  },
  {
   "cell_type": "code",
   "execution_count": null,
   "id": "89849ccd-353c-44ff-bf7a-cdcb3e296ece",
   "metadata": {},
   "outputs": [],
   "source": [
    "# Use the model to generate segmentation outputs for the given inputs. The model is run in no_grad() mode to avoid gradient calculations.\n",
    "import torch\n",
    "with torch.no_grad():\n",
    "    outputs = model(**inputs)\n"
   ]
  },
  {
   "cell_type": "markdown",
   "id": "3dac7b36-ccdb-4c82-8fb0-5d04606aae01",
   "metadata": {},
   "source": [
    "Cell 11: Post-process the predicted masks"
   ]
  },
  {
   "cell_type": "code",
   "execution_count": null,
   "id": "8e98de5c-681e-46f6-b12b-97dbc7dbec55",
   "metadata": {},
   "outputs": [],
   "source": [
    "# Use the processor to post-process the predicted masks. The post_process_masks function ensures that the masks are converted to a usable format.\n",
    "# The inputs[\"original_sizes\"] and inputs[\"reshaped_input_sizes\"] are used to adjust the mask size.\n",
    "predicted_masks = processor.image_processor.post_process_masks(\n",
    "    outputs.pred_masks,\n",
    "    inputs[\"original_sizes\"],\n",
    "    inputs[\"reshaped_input_sizes\"]\n",
    ")\n"
   ]
  },
  {
   "cell_type": "markdown",
   "id": "f2b2fc37-a1ea-46bf-b25e-08cc4b95537a",
   "metadata": {},
   "source": [
    "Cell 12: Inspect the number and size of predicted masks"
   ]
  },
  {
   "cell_type": "code",
   "execution_count": null,
   "id": "2bdff293-600f-432e-8b27-3d9efbf7c7ed",
   "metadata": {},
   "outputs": [],
   "source": [
    "# The length of predicted_masks corresponds to the number of images used in the input.\n",
    "print(len(predicted_masks))  # Prints the number of predicted masks\n",
    "\n",
    "# Inspect the shape of the first predicted mask.\n",
    "predicted_mask = predicted_masks[0]\n",
    "print(predicted_mask.shape)  # Print the shape of the first predicted mask (Height x Width)\n"
   ]
  },
  {
   "cell_type": "markdown",
   "id": "6ad75288-5e80-4d0a-97cc-fbf38e868c72",
   "metadata": {},
   "source": [
    "Cell 13: Display the Intersection over Union (IoU) scores"
   ]
  },
  {
   "cell_type": "code",
   "execution_count": null,
   "id": "39b81174-9218-49a7-a8c2-09126fd0942e",
   "metadata": {},
   "outputs": [],
   "source": [
    "# IoU (Intersection over Union) scores help evaluate the accuracy of the predicted masks. \n",
    "# These scores measure the overlap between the predicted mask and the ground truth mask.\n",
    "print(outputs.iou_scores)  # Display IoU scores for each predicted mask\n"
   ]
  },
  {
   "cell_type": "markdown",
   "id": "46e77a22-7cd1-465a-be9e-56efd377b296",
   "metadata": {},
   "source": [
    "Cell 14: Visualize the predicted mask on the image"
   ]
  },
  {
   "cell_type": "code",
   "execution_count": null,
   "id": "32cf3741-dfc8-492b-80e7-ce4c2bb44841",
   "metadata": {},
   "outputs": [],
   "source": [
    "# Use a helper function to visualize the predicted mask overlaid on the raw image.\n",
    "# In this case, we are visualizing the first three predicted masks.\n",
    "from helper import show_mask_on_image\n",
    "\n",
    "# Loop through the first three predicted masks and overlay them on the raw image.\n",
    "for i in range(3):\n",
    "    show_mask_on_image(raw_image, predicted_mask[:, i])  # Display each mask on the image\n"
   ]
  },
  {
   "cell_type": "markdown",
   "id": "8481d51a-e701-40a5-84ba-74e34ed8b1b4",
   "metadata": {},
   "source": [
    "Explanation:\n",
    "Pipeline Initialization: We initialize the SAM model pipeline for mask generation, specifying a pre-trained model from Hugging Face's SlimSAM-uniform-77.\n",
    "\n",
    "Image Processing: The input image is loaded using PIL, resized to a fixed resolution, and passed to the SAM model for segmentation.\n",
    "\n",
    "Mask Generation: The SAM pipeline generates segmentation masks, and these masks are displayed using a helper function.\n",
    "\n",
    "Faster Inference: For faster inference, we focus on a specific region of the image using a single 2D point. The processor converts the image and point into model inputs, which are then passed to the SAM model to produce a more focused mask.\n",
    "\n",
    "Post-processing: The predicted masks are post-processed to adjust their size to match the input image's dimensions.\n",
    "\n",
    "IoU Scores: The Intersection over Union (IoU) scores are displayed to evaluate the segmentation accuracy.\n",
    "\n",
    "Mask Visualization: Finally, we visualize the predicted masks overlaid on the input image using a helper function.\n",
    "\n"
   ]
  }
 ],
 "metadata": {
  "kernelspec": {
   "display_name": "Python 3 (ipykernel)",
   "language": "python",
   "name": "python3"
  },
  "language_info": {
   "codemirror_mode": {
    "name": "ipython",
    "version": 3
   },
   "file_extension": ".py",
   "mimetype": "text/x-python",
   "name": "python",
   "nbconvert_exporter": "python",
   "pygments_lexer": "ipython3",
   "version": "3.11.5"
  }
 },
 "nbformat": 4,
 "nbformat_minor": 5
}
