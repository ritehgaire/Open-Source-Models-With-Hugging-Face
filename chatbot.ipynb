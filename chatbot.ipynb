{
 "cells": [
  {
   "cell_type": "markdown",
   "id": "9f09c058-e956-44b5-a87d-9ec61050462b",
   "metadata": {},
   "source": [
    "Step 1: Import Required Libraries"
   ]
  },
  {
   "cell_type": "code",
   "execution_count": 1,
   "id": "7bd5c32c-9d0f-47e3-9b23-726a86390b37",
   "metadata": {},
   "outputs": [],
   "source": [
    "from transformers import pipeline, AutoTokenizer, AutoModelForSeq2SeqLM\n"
   ]
  },
  {
   "cell_type": "markdown",
   "id": "605c387e-46af-452f-9f91-7ad5a4644d7d",
   "metadata": {},
   "source": [
    "Step 2: Initialize the Pipeline and Model"
   ]
  },
  {
   "cell_type": "code",
   "execution_count": 3,
   "id": "32530560-81af-4cc2-a415-3d7f7f81d0b0",
   "metadata": {},
   "outputs": [],
   "source": [
    "# Using the high-level pipeline helper\n",
    "pipe = pipeline(\"text2text-generation\", model=\"facebook/blenderbot-400M-distill\")\n",
    "\n",
    "# Alternatively, load the tokenizer and model directly\n",
    "tokenizer = AutoTokenizer.from_pretrained(\"facebook/blenderbot-400M-distill\")\n",
    "model = AutoModelForSeq2SeqLM.from_pretrained(\"facebook/blenderbot-400M-distill\")\n"
   ]
  },
  {
   "cell_type": "markdown",
   "id": "43682313-59f0-4e34-ab74-32a5db96efcc",
   "metadata": {},
   "source": [
    "Step 3: Create a Chat Function\n",
    "We'll create a function that takes user input, processes it with the model, and returns a response."
   ]
  },
  {
   "cell_type": "code",
   "execution_count": 5,
   "id": "492ee46c-801b-4343-baed-97c52f0ac5e8",
   "metadata": {},
   "outputs": [],
   "source": [
    "def chat_with_blenderbot(user_input, use_pipeline=True):\n",
    "    if use_pipeline:\n",
    "        # Use the pipeline for generating a response\n",
    "        response = pipe(user_input, max_length=100)\n",
    "        return response[0]['generated_text']\n",
    "    else:\n",
    "        # Use the tokenizer and model directly for generating a response\n",
    "        inputs = tokenizer(user_input, return_tensors=\"pt\")\n",
    "        reply_ids = model.generate(inputs[\"input_ids\"], max_length=100)\n",
    "        reply = tokenizer.decode(reply_ids[0], skip_special_tokens=True)\n",
    "        return reply\n"
   ]
  },
  {
   "cell_type": "markdown",
   "id": "bb062e10-3968-475b-a94d-15cd22064acf",
   "metadata": {},
   "source": [
    "Step 4: Run a Chat Loop"
   ]
  },
  {
   "cell_type": "code",
   "execution_count": null,
   "id": "38edb0bb-ab46-462a-9e93-d7946e176c7b",
   "metadata": {},
   "outputs": [
    {
     "name": "stdout",
     "output_type": "stream",
     "text": [
      "Chatbot is ready! Type 'exit' to end the conversation.\n"
     ]
    },
    {
     "name": "stdin",
     "output_type": "stream",
     "text": [
      "You:  can you do maths\n"
     ]
    },
    {
     "name": "stdout",
     "output_type": "stream",
     "text": [
      "Chatbot:  I can, but I'm not sure if I'm good at it. I've never been good at math.\n"
     ]
    }
   ],
   "source": [
    "def start_chatbot():\n",
    "    print(\"Chatbot is ready! Type 'exit' to end the conversation.\")\n",
    "    while True:\n",
    "        user_input = input(\"You: \")\n",
    "        if user_input.lower() in [\"exit\", \"quit\"]:\n",
    "            print(\"Chatbot: Goodbye!\")\n",
    "            break\n",
    "        \n",
    "        # Generate a response using the chat function\n",
    "        response = chat_with_blenderbot(user_input)\n",
    "        print(f\"Chatbot: {response}\")\n",
    "\n",
    "# Start the chatbot\n",
    "start_chatbot()\n"
   ]
  },
  {
   "cell_type": "code",
   "execution_count": null,
   "id": "a1f07b00-850e-41d1-83a1-3d2a41694b97",
   "metadata": {},
   "outputs": [],
   "source": []
  }
 ],
 "metadata": {
  "kernelspec": {
   "display_name": "Python 3 (ipykernel)",
   "language": "python",
   "name": "python3"
  },
  "language_info": {
   "codemirror_mode": {
    "name": "ipython",
    "version": 3
   },
   "file_extension": ".py",
   "mimetype": "text/x-python",
   "name": "python",
   "nbconvert_exporter": "python",
   "pygments_lexer": "ipython3",
   "version": "3.11.5"
  }
 },
 "nbformat": 4,
 "nbformat_minor": 5
}
