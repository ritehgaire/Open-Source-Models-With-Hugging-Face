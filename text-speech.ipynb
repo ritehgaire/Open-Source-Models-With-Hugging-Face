{
 "cells": [
  {
   "cell_type": "markdown",
   "id": "3e9a9188-f4a4-4783-91e0-6fe0e91832d3",
   "metadata": {},
   "source": [
    "Cell 1: Install necessary libraries"
   ]
  },
  {
   "cell_type": "code",
   "execution_count": 12,
   "id": "c1516a9c-90fd-4f5b-986a-2d8ee9c009af",
   "metadata": {
    "scrolled": true
   },
   "outputs": [
    {
     "name": "stdout",
     "output_type": "stream",
     "text": [
      "Requirement already satisfied: transformers in /Users/riteshgaire/anaconda3/lib/python3.11/site-packages (4.37.2)\n",
      "Requirement already satisfied: filelock in /Users/riteshgaire/.local/lib/python3.11/site-packages (from transformers) (3.13.1)\n",
      "Requirement already satisfied: huggingface-hub<1.0,>=0.19.3 in /Users/riteshgaire/anaconda3/lib/python3.11/site-packages (from transformers) (0.24.6)\n",
      "Requirement already satisfied: numpy>=1.17 in /Users/riteshgaire/anaconda3/lib/python3.11/site-packages (from transformers) (1.26.4)\n",
      "Requirement already satisfied: packaging>=20.0 in /Users/riteshgaire/anaconda3/lib/python3.11/site-packages (from transformers) (23.2)\n",
      "Requirement already satisfied: pyyaml>=5.1 in /Users/riteshgaire/anaconda3/lib/python3.11/site-packages (from transformers) (6.0.1)\n",
      "Requirement already satisfied: regex!=2019.12.17 in /Users/riteshgaire/anaconda3/lib/python3.11/site-packages (from transformers) (2023.10.3)\n",
      "Requirement already satisfied: requests in /Users/riteshgaire/anaconda3/lib/python3.11/site-packages (from transformers) (2.32.3)\n",
      "Requirement already satisfied: tokenizers<0.19,>=0.14 in /Users/riteshgaire/anaconda3/lib/python3.11/site-packages (from transformers) (0.15.1)\n",
      "Requirement already satisfied: safetensors>=0.4.1 in /Users/riteshgaire/anaconda3/lib/python3.11/site-packages (from transformers) (0.4.2)\n",
      "Requirement already satisfied: tqdm>=4.27 in /Users/riteshgaire/anaconda3/lib/python3.11/site-packages (from transformers) (4.66.5)\n",
      "Requirement already satisfied: fsspec>=2023.5.0 in /Users/riteshgaire/anaconda3/lib/python3.11/site-packages (from huggingface-hub<1.0,>=0.19.3->transformers) (2023.10.0)\n",
      "Requirement already satisfied: typing-extensions>=3.7.4.3 in /Users/riteshgaire/anaconda3/lib/python3.11/site-packages (from huggingface-hub<1.0,>=0.19.3->transformers) (4.12.2)\n",
      "Requirement already satisfied: charset-normalizer<4,>=2 in /Users/riteshgaire/anaconda3/lib/python3.11/site-packages (from requests->transformers) (2.0.4)\n",
      "Requirement already satisfied: idna<4,>=2.5 in /Users/riteshgaire/anaconda3/lib/python3.11/site-packages (from requests->transformers) (3.4)\n",
      "Requirement already satisfied: urllib3<3,>=1.21.1 in /Users/riteshgaire/anaconda3/lib/python3.11/site-packages (from requests->transformers) (2.0.7)\n",
      "Requirement already satisfied: certifi>=2017.4.17 in /Users/riteshgaire/anaconda3/lib/python3.11/site-packages (from requests->transformers) (2024.6.2)\n",
      "Requirement already satisfied: gradio in /Users/riteshgaire/anaconda3/lib/python3.11/site-packages (4.42.0)\n",
      "Requirement already satisfied: aiofiles<24.0,>=22.0 in /Users/riteshgaire/anaconda3/lib/python3.11/site-packages (from gradio) (23.2.1)\n",
      "Requirement already satisfied: anyio<5.0,>=3.0 in /Users/riteshgaire/anaconda3/lib/python3.11/site-packages (from gradio) (4.2.0)\n",
      "Requirement already satisfied: fastapi in /Users/riteshgaire/anaconda3/lib/python3.11/site-packages (from gradio) (0.112.2)\n",
      "Requirement already satisfied: ffmpy in /Users/riteshgaire/anaconda3/lib/python3.11/site-packages (from gradio) (0.4.0)\n",
      "Requirement already satisfied: gradio-client==1.3.0 in /Users/riteshgaire/anaconda3/lib/python3.11/site-packages (from gradio) (1.3.0)\n",
      "Requirement already satisfied: httpx>=0.24.1 in /Users/riteshgaire/anaconda3/lib/python3.11/site-packages (from gradio) (0.26.0)\n",
      "Requirement already satisfied: huggingface-hub>=0.19.3 in /Users/riteshgaire/anaconda3/lib/python3.11/site-packages (from gradio) (0.24.6)\n",
      "Requirement already satisfied: importlib-resources<7.0,>=1.3 in /Users/riteshgaire/anaconda3/lib/python3.11/site-packages (from gradio) (6.4.4)\n",
      "Requirement already satisfied: jinja2<4.0 in /Users/riteshgaire/anaconda3/lib/python3.11/site-packages (from gradio) (3.1.3)\n",
      "Requirement already satisfied: markupsafe~=2.0 in /Users/riteshgaire/anaconda3/lib/python3.11/site-packages (from gradio) (2.1.3)\n",
      "Requirement already satisfied: matplotlib~=3.0 in /Users/riteshgaire/anaconda3/lib/python3.11/site-packages (from gradio) (3.8.0)\n",
      "Requirement already satisfied: numpy<3.0,>=1.0 in /Users/riteshgaire/anaconda3/lib/python3.11/site-packages (from gradio) (1.26.4)\n",
      "Requirement already satisfied: orjson~=3.0 in /Users/riteshgaire/anaconda3/lib/python3.11/site-packages (from gradio) (3.10.7)\n",
      "Requirement already satisfied: packaging in /Users/riteshgaire/anaconda3/lib/python3.11/site-packages (from gradio) (23.2)\n",
      "Requirement already satisfied: pandas<3.0,>=1.0 in /Users/riteshgaire/anaconda3/lib/python3.11/site-packages (from gradio) (2.1.4)\n",
      "Requirement already satisfied: pillow<11.0,>=8.0 in /Users/riteshgaire/anaconda3/lib/python3.11/site-packages (from gradio) (10.2.0)\n",
      "Requirement already satisfied: pydantic>=2.0 in /Users/riteshgaire/anaconda3/lib/python3.11/site-packages (from gradio) (2.5.3)\n",
      "Requirement already satisfied: pydub in /Users/riteshgaire/anaconda3/lib/python3.11/site-packages (from gradio) (0.25.1)\n",
      "Requirement already satisfied: python-multipart>=0.0.9 in /Users/riteshgaire/anaconda3/lib/python3.11/site-packages (from gradio) (0.0.9)\n",
      "Requirement already satisfied: pyyaml<7.0,>=5.0 in /Users/riteshgaire/anaconda3/lib/python3.11/site-packages (from gradio) (6.0.1)\n",
      "Requirement already satisfied: ruff>=0.2.2 in /Users/riteshgaire/anaconda3/lib/python3.11/site-packages (from gradio) (0.6.3)\n",
      "Requirement already satisfied: semantic-version~=2.0 in /Users/riteshgaire/anaconda3/lib/python3.11/site-packages (from gradio) (2.10.0)\n",
      "Requirement already satisfied: tomlkit==0.12.0 in /Users/riteshgaire/anaconda3/lib/python3.11/site-packages (from gradio) (0.12.0)\n",
      "Requirement already satisfied: typer<1.0,>=0.12 in /Users/riteshgaire/anaconda3/lib/python3.11/site-packages (from gradio) (0.12.5)\n",
      "Requirement already satisfied: typing-extensions~=4.0 in /Users/riteshgaire/anaconda3/lib/python3.11/site-packages (from gradio) (4.12.2)\n",
      "Requirement already satisfied: urllib3~=2.0 in /Users/riteshgaire/anaconda3/lib/python3.11/site-packages (from gradio) (2.0.7)\n",
      "Requirement already satisfied: uvicorn>=0.14.0 in /Users/riteshgaire/anaconda3/lib/python3.11/site-packages (from gradio) (0.30.6)\n",
      "Requirement already satisfied: fsspec in /Users/riteshgaire/anaconda3/lib/python3.11/site-packages (from gradio-client==1.3.0->gradio) (2023.10.0)\n",
      "Requirement already satisfied: websockets<13.0,>=10.0 in /Users/riteshgaire/anaconda3/lib/python3.11/site-packages (from gradio-client==1.3.0->gradio) (12.0)\n",
      "Requirement already satisfied: idna>=2.8 in /Users/riteshgaire/anaconda3/lib/python3.11/site-packages (from anyio<5.0,>=3.0->gradio) (3.4)\n",
      "Requirement already satisfied: sniffio>=1.1 in /Users/riteshgaire/anaconda3/lib/python3.11/site-packages (from anyio<5.0,>=3.0->gradio) (1.3.0)\n",
      "Requirement already satisfied: certifi in /Users/riteshgaire/anaconda3/lib/python3.11/site-packages (from httpx>=0.24.1->gradio) (2024.6.2)\n",
      "Requirement already satisfied: httpcore==1.* in /Users/riteshgaire/anaconda3/lib/python3.11/site-packages (from httpx>=0.24.1->gradio) (1.0.2)\n",
      "Requirement already satisfied: h11<0.15,>=0.13 in /Users/riteshgaire/anaconda3/lib/python3.11/site-packages (from httpcore==1.*->httpx>=0.24.1->gradio) (0.14.0)\n",
      "Requirement already satisfied: filelock in /Users/riteshgaire/.local/lib/python3.11/site-packages (from huggingface-hub>=0.19.3->gradio) (3.13.1)\n",
      "Requirement already satisfied: requests in /Users/riteshgaire/anaconda3/lib/python3.11/site-packages (from huggingface-hub>=0.19.3->gradio) (2.32.3)\n",
      "Requirement already satisfied: tqdm>=4.42.1 in /Users/riteshgaire/anaconda3/lib/python3.11/site-packages (from huggingface-hub>=0.19.3->gradio) (4.66.5)\n",
      "Requirement already satisfied: contourpy>=1.0.1 in /Users/riteshgaire/anaconda3/lib/python3.11/site-packages (from matplotlib~=3.0->gradio) (1.2.0)\n",
      "Requirement already satisfied: cycler>=0.10 in /Users/riteshgaire/anaconda3/lib/python3.11/site-packages (from matplotlib~=3.0->gradio) (0.11.0)\n",
      "Requirement already satisfied: fonttools>=4.22.0 in /Users/riteshgaire/anaconda3/lib/python3.11/site-packages (from matplotlib~=3.0->gradio) (4.25.0)\n",
      "Requirement already satisfied: kiwisolver>=1.0.1 in /Users/riteshgaire/anaconda3/lib/python3.11/site-packages (from matplotlib~=3.0->gradio) (1.4.4)\n",
      "Requirement already satisfied: pyparsing>=2.3.1 in /Users/riteshgaire/anaconda3/lib/python3.11/site-packages (from matplotlib~=3.0->gradio) (3.0.9)\n",
      "Requirement already satisfied: python-dateutil>=2.7 in /Users/riteshgaire/anaconda3/lib/python3.11/site-packages (from matplotlib~=3.0->gradio) (2.8.2)\n",
      "Requirement already satisfied: pytz>=2020.1 in /Users/riteshgaire/anaconda3/lib/python3.11/site-packages (from pandas<3.0,>=1.0->gradio) (2023.3.post1)\n",
      "Requirement already satisfied: tzdata>=2022.1 in /Users/riteshgaire/anaconda3/lib/python3.11/site-packages (from pandas<3.0,>=1.0->gradio) (2023.3)\n",
      "Requirement already satisfied: annotated-types>=0.4.0 in /Users/riteshgaire/anaconda3/lib/python3.11/site-packages (from pydantic>=2.0->gradio) (0.6.0)\n",
      "Requirement already satisfied: pydantic-core==2.14.6 in /Users/riteshgaire/anaconda3/lib/python3.11/site-packages (from pydantic>=2.0->gradio) (2.14.6)\n",
      "Requirement already satisfied: click>=8.0.0 in /Users/riteshgaire/anaconda3/lib/python3.11/site-packages (from typer<1.0,>=0.12->gradio) (8.1.7)\n",
      "Requirement already satisfied: shellingham>=1.3.0 in /Users/riteshgaire/anaconda3/lib/python3.11/site-packages (from typer<1.0,>=0.12->gradio) (1.5.0)\n",
      "Requirement already satisfied: rich>=10.11.0 in /Users/riteshgaire/anaconda3/lib/python3.11/site-packages (from typer<1.0,>=0.12->gradio) (13.7.1)\n",
      "Requirement already satisfied: starlette<0.39.0,>=0.37.2 in /Users/riteshgaire/anaconda3/lib/python3.11/site-packages (from fastapi->gradio) (0.38.4)\n",
      "Requirement already satisfied: six>=1.5 in /Users/riteshgaire/anaconda3/lib/python3.11/site-packages (from python-dateutil>=2.7->matplotlib~=3.0->gradio) (1.16.0)\n",
      "Requirement already satisfied: markdown-it-py>=2.2.0 in /Users/riteshgaire/anaconda3/lib/python3.11/site-packages (from rich>=10.11.0->typer<1.0,>=0.12->gradio) (2.2.0)\n",
      "Requirement already satisfied: pygments<3.0.0,>=2.13.0 in /Users/riteshgaire/anaconda3/lib/python3.11/site-packages (from rich>=10.11.0->typer<1.0,>=0.12->gradio) (2.15.1)\n",
      "Requirement already satisfied: charset-normalizer<4,>=2 in /Users/riteshgaire/anaconda3/lib/python3.11/site-packages (from requests->huggingface-hub>=0.19.3->gradio) (2.0.4)\n",
      "Requirement already satisfied: mdurl~=0.1 in /Users/riteshgaire/anaconda3/lib/python3.11/site-packages (from markdown-it-py>=2.2.0->rich>=10.11.0->typer<1.0,>=0.12->gradio) (0.1.0)\n",
      "Collecting timm\n",
      "  Downloading timm-1.0.9-py3-none-any.whl.metadata (42 kB)\n",
      "Requirement already satisfied: torch in /Users/riteshgaire/anaconda3/lib/python3.11/site-packages (from timm) (2.2.0.post100)\n",
      "Requirement already satisfied: torchvision in /Users/riteshgaire/anaconda3/lib/python3.11/site-packages (from timm) (0.15.2a0)\n",
      "Requirement already satisfied: pyyaml in /Users/riteshgaire/anaconda3/lib/python3.11/site-packages (from timm) (6.0.1)\n",
      "Requirement already satisfied: huggingface_hub in /Users/riteshgaire/anaconda3/lib/python3.11/site-packages (from timm) (0.24.6)\n",
      "Requirement already satisfied: safetensors in /Users/riteshgaire/anaconda3/lib/python3.11/site-packages (from timm) (0.4.2)\n",
      "Requirement already satisfied: filelock in /Users/riteshgaire/.local/lib/python3.11/site-packages (from huggingface_hub->timm) (3.13.1)\n",
      "Requirement already satisfied: fsspec>=2023.5.0 in /Users/riteshgaire/anaconda3/lib/python3.11/site-packages (from huggingface_hub->timm) (2023.10.0)\n",
      "Requirement already satisfied: packaging>=20.9 in /Users/riteshgaire/anaconda3/lib/python3.11/site-packages (from huggingface_hub->timm) (23.2)\n",
      "Requirement already satisfied: requests in /Users/riteshgaire/anaconda3/lib/python3.11/site-packages (from huggingface_hub->timm) (2.32.3)\n",
      "Requirement already satisfied: tqdm>=4.42.1 in /Users/riteshgaire/anaconda3/lib/python3.11/site-packages (from huggingface_hub->timm) (4.66.5)\n",
      "Requirement already satisfied: typing-extensions>=3.7.4.3 in /Users/riteshgaire/anaconda3/lib/python3.11/site-packages (from huggingface_hub->timm) (4.12.2)\n",
      "Requirement already satisfied: sympy in /Users/riteshgaire/anaconda3/lib/python3.11/site-packages (from torch->timm) (1.12)\n",
      "Requirement already satisfied: networkx in /Users/riteshgaire/anaconda3/lib/python3.11/site-packages (from torch->timm) (3.1)\n",
      "Requirement already satisfied: jinja2 in /Users/riteshgaire/anaconda3/lib/python3.11/site-packages (from torch->timm) (3.1.3)\n",
      "Requirement already satisfied: numpy in /Users/riteshgaire/anaconda3/lib/python3.11/site-packages (from torchvision->timm) (1.26.4)\n",
      "Requirement already satisfied: pillow!=8.3.*,>=5.3.0 in /Users/riteshgaire/anaconda3/lib/python3.11/site-packages (from torchvision->timm) (10.2.0)\n",
      "Requirement already satisfied: MarkupSafe>=2.0 in /Users/riteshgaire/anaconda3/lib/python3.11/site-packages (from jinja2->torch->timm) (2.1.3)\n",
      "Requirement already satisfied: charset-normalizer<4,>=2 in /Users/riteshgaire/anaconda3/lib/python3.11/site-packages (from requests->huggingface_hub->timm) (2.0.4)\n",
      "Requirement already satisfied: idna<4,>=2.5 in /Users/riteshgaire/anaconda3/lib/python3.11/site-packages (from requests->huggingface_hub->timm) (3.4)\n",
      "Requirement already satisfied: urllib3<3,>=1.21.1 in /Users/riteshgaire/anaconda3/lib/python3.11/site-packages (from requests->huggingface_hub->timm) (2.0.7)\n",
      "Requirement already satisfied: certifi>=2017.4.17 in /Users/riteshgaire/anaconda3/lib/python3.11/site-packages (from requests->huggingface_hub->timm) (2024.6.2)\n",
      "Requirement already satisfied: mpmath>=0.19 in /Users/riteshgaire/anaconda3/lib/python3.11/site-packages (from sympy->torch->timm) (1.3.0)\n",
      "Downloading timm-1.0.9-py3-none-any.whl (2.3 MB)\n",
      "\u001b[2K   \u001b[90m━━━━━━━━━━━━━━━━━━━━━━━━━━━━━━━━━━━━━━━━\u001b[0m \u001b[32m2.3/2.3 MB\u001b[0m \u001b[31m10.9 MB/s\u001b[0m eta \u001b[36m0:00:00\u001b[0ma \u001b[36m0:00:01\u001b[0m\n",
      "\u001b[?25hInstalling collected packages: timm\n",
      "Successfully installed timm-1.0.9\n",
      "Collecting inflect\n",
      "  Downloading inflect-7.3.1-py3-none-any.whl.metadata (21 kB)\n",
      "Requirement already satisfied: more-itertools>=8.5.0 in /Users/riteshgaire/anaconda3/lib/python3.11/site-packages (from inflect) (10.1.0)\n",
      "Collecting typeguard>=4.0.1 (from inflect)\n",
      "  Downloading typeguard-4.3.0-py3-none-any.whl.metadata (3.7 kB)\n",
      "Requirement already satisfied: typing-extensions>=4.10.0 in /Users/riteshgaire/anaconda3/lib/python3.11/site-packages (from typeguard>=4.0.1->inflect) (4.12.2)\n",
      "Downloading inflect-7.3.1-py3-none-any.whl (34 kB)\n",
      "Downloading typeguard-4.3.0-py3-none-any.whl (35 kB)\n",
      "Installing collected packages: typeguard, inflect\n",
      "Successfully installed inflect-7.3.1 typeguard-4.3.0\n",
      "Collecting phonemizer\n",
      "  Downloading phonemizer-3.3.0-py3-none-any.whl.metadata (48 kB)\n",
      "Requirement already satisfied: joblib in /Users/riteshgaire/anaconda3/lib/python3.11/site-packages (from phonemizer) (1.2.0)\n",
      "Collecting segments (from phonemizer)\n",
      "  Downloading segments-2.2.1-py2.py3-none-any.whl.metadata (3.3 kB)\n",
      "Requirement already satisfied: attrs>=18.1 in /Users/riteshgaire/anaconda3/lib/python3.11/site-packages (from phonemizer) (23.1.0)\n",
      "Collecting dlinfo (from phonemizer)\n",
      "  Downloading dlinfo-1.2.1-py3-none-any.whl.metadata (1.1 kB)\n",
      "Requirement already satisfied: typing-extensions in /Users/riteshgaire/anaconda3/lib/python3.11/site-packages (from phonemizer) (4.12.2)\n",
      "Collecting clldutils>=1.7.3 (from segments->phonemizer)\n",
      "  Downloading clldutils-3.22.2-py2.py3-none-any.whl.metadata (3.0 kB)\n",
      "Collecting csvw>=1.5.6 (from segments->phonemizer)\n",
      "  Downloading csvw-3.3.0-py2.py3-none-any.whl.metadata (10 kB)\n",
      "Requirement already satisfied: regex in /Users/riteshgaire/anaconda3/lib/python3.11/site-packages (from segments->phonemizer) (2023.10.3)\n",
      "Requirement already satisfied: python-dateutil in /Users/riteshgaire/anaconda3/lib/python3.11/site-packages (from clldutils>=1.7.3->segments->phonemizer) (2.8.2)\n",
      "Requirement already satisfied: tabulate>=0.7.7 in /Users/riteshgaire/anaconda3/lib/python3.11/site-packages (from clldutils>=1.7.3->segments->phonemizer) (0.9.0)\n",
      "Collecting colorlog (from clldutils>=1.7.3->segments->phonemizer)\n",
      "  Downloading colorlog-6.8.2-py3-none-any.whl.metadata (10 kB)\n",
      "Collecting bibtexparser>=2.0.0b4 (from clldutils>=1.7.3->segments->phonemizer)\n",
      "  Downloading bibtexparser-2.0.0b7-py3-none-any.whl.metadata (5.6 kB)\n",
      "Collecting pylatexenc (from clldutils>=1.7.3->segments->phonemizer)\n",
      "  Downloading pylatexenc-2.10.tar.gz (162 kB)\n",
      "  Preparing metadata (setup.py) ... \u001b[?25ldone\n",
      "\u001b[?25hRequirement already satisfied: markdown in /Users/riteshgaire/anaconda3/lib/python3.11/site-packages (from clldutils>=1.7.3->segments->phonemizer) (3.4.1)\n",
      "Requirement already satisfied: lxml in /Users/riteshgaire/anaconda3/lib/python3.11/site-packages (from clldutils>=1.7.3->segments->phonemizer) (4.9.3)\n",
      "Requirement already satisfied: markupsafe in /Users/riteshgaire/anaconda3/lib/python3.11/site-packages (from clldutils>=1.7.3->segments->phonemizer) (2.1.3)\n",
      "Requirement already satisfied: babel in /Users/riteshgaire/anaconda3/lib/python3.11/site-packages (from csvw>=1.5.6->segments->phonemizer) (2.11.0)\n",
      "Requirement already satisfied: colorama in /Users/riteshgaire/anaconda3/lib/python3.11/site-packages (from csvw>=1.5.6->segments->phonemizer) (0.4.6)\n",
      "Collecting isodate (from csvw>=1.5.6->segments->phonemizer)\n",
      "  Downloading isodate-0.6.1-py2.py3-none-any.whl.metadata (9.6 kB)\n",
      "Requirement already satisfied: jsonschema in /Users/riteshgaire/anaconda3/lib/python3.11/site-packages (from csvw>=1.5.6->segments->phonemizer) (4.19.2)\n",
      "Collecting language-tags (from csvw>=1.5.6->segments->phonemizer)\n",
      "  Downloading language_tags-1.2.0-py3-none-any.whl.metadata (2.1 kB)\n",
      "Collecting rdflib (from csvw>=1.5.6->segments->phonemizer)\n",
      "  Downloading rdflib-7.0.0-py3-none-any.whl.metadata (11 kB)\n",
      "Requirement already satisfied: requests in /Users/riteshgaire/anaconda3/lib/python3.11/site-packages (from csvw>=1.5.6->segments->phonemizer) (2.32.3)\n",
      "Collecting rfc3986<2 (from csvw>=1.5.6->segments->phonemizer)\n",
      "  Downloading rfc3986-1.5.0-py2.py3-none-any.whl.metadata (6.5 kB)\n",
      "Collecting uritemplate>=3.0.0 (from csvw>=1.5.6->segments->phonemizer)\n",
      "  Downloading uritemplate-4.1.1-py2.py3-none-any.whl.metadata (2.9 kB)\n",
      "Requirement already satisfied: pytz>=2015.7 in /Users/riteshgaire/anaconda3/lib/python3.11/site-packages (from babel->csvw>=1.5.6->segments->phonemizer) (2023.3.post1)\n",
      "Requirement already satisfied: six in /Users/riteshgaire/anaconda3/lib/python3.11/site-packages (from isodate->csvw>=1.5.6->segments->phonemizer) (1.16.0)\n",
      "Requirement already satisfied: jsonschema-specifications>=2023.03.6 in /Users/riteshgaire/anaconda3/lib/python3.11/site-packages (from jsonschema->csvw>=1.5.6->segments->phonemizer) (2023.7.1)\n",
      "Requirement already satisfied: referencing>=0.28.4 in /Users/riteshgaire/anaconda3/lib/python3.11/site-packages (from jsonschema->csvw>=1.5.6->segments->phonemizer) (0.30.2)\n",
      "Requirement already satisfied: rpds-py>=0.7.1 in /Users/riteshgaire/anaconda3/lib/python3.11/site-packages (from jsonschema->csvw>=1.5.6->segments->phonemizer) (0.10.6)\n",
      "Requirement already satisfied: pyparsing<4,>=2.1.0 in /Users/riteshgaire/anaconda3/lib/python3.11/site-packages (from rdflib->csvw>=1.5.6->segments->phonemizer) (3.0.9)\n",
      "Requirement already satisfied: charset-normalizer<4,>=2 in /Users/riteshgaire/anaconda3/lib/python3.11/site-packages (from requests->csvw>=1.5.6->segments->phonemizer) (2.0.4)\n",
      "Requirement already satisfied: idna<4,>=2.5 in /Users/riteshgaire/anaconda3/lib/python3.11/site-packages (from requests->csvw>=1.5.6->segments->phonemizer) (3.4)\n",
      "Requirement already satisfied: urllib3<3,>=1.21.1 in /Users/riteshgaire/anaconda3/lib/python3.11/site-packages (from requests->csvw>=1.5.6->segments->phonemizer) (2.0.7)\n",
      "Requirement already satisfied: certifi>=2017.4.17 in /Users/riteshgaire/anaconda3/lib/python3.11/site-packages (from requests->csvw>=1.5.6->segments->phonemizer) (2024.6.2)\n",
      "Downloading phonemizer-3.3.0-py3-none-any.whl (103 kB)\n",
      "Downloading dlinfo-1.2.1-py3-none-any.whl (3.6 kB)\n",
      "Downloading segments-2.2.1-py2.py3-none-any.whl (15 kB)\n",
      "Downloading clldutils-3.22.2-py2.py3-none-any.whl (1.7 MB)\n",
      "\u001b[2K   \u001b[90m━━━━━━━━━━━━━━━━━━━━━━━━━━━━━━━━━━━━━━━━\u001b[0m \u001b[32m1.7/1.7 MB\u001b[0m \u001b[31m6.5 MB/s\u001b[0m eta \u001b[36m0:00:00\u001b[0mta \u001b[36m0:00:01\u001b[0m\n",
      "\u001b[?25hDownloading csvw-3.3.0-py2.py3-none-any.whl (57 kB)\n",
      "Downloading bibtexparser-2.0.0b7-py3-none-any.whl (38 kB)\n",
      "Downloading rfc3986-1.5.0-py2.py3-none-any.whl (31 kB)\n",
      "Downloading uritemplate-4.1.1-py2.py3-none-any.whl (10 kB)\n",
      "Downloading colorlog-6.8.2-py3-none-any.whl (11 kB)\n",
      "Downloading isodate-0.6.1-py2.py3-none-any.whl (41 kB)\n",
      "Downloading language_tags-1.2.0-py3-none-any.whl (213 kB)\n",
      "Downloading rdflib-7.0.0-py3-none-any.whl (531 kB)\n",
      "\u001b[2K   \u001b[90m━━━━━━━━━━━━━━━━━━━━━━━━━━━━━━━━━━━━━━━━\u001b[0m \u001b[32m531.9/531.9 kB\u001b[0m \u001b[31m8.3 MB/s\u001b[0m eta \u001b[36m0:00:00\u001b[0m\n",
      "\u001b[?25hBuilding wheels for collected packages: pylatexenc\n",
      "  Building wheel for pylatexenc (setup.py) ... \u001b[?25ldone\n",
      "\u001b[?25h  Created wheel for pylatexenc: filename=pylatexenc-2.10-py3-none-any.whl size=136819 sha256=f076446f59966521d2eb7cdbb84a7987be0ef525063cda69b03e0ee5cab20595\n",
      "  Stored in directory: /Users/riteshgaire/Library/Caches/pip/wheels/b1/7a/33/9fdd892f784ed4afda62b685ae3703adf4c91aa0f524c28f03\n",
      "Successfully built pylatexenc\n",
      "Installing collected packages: rfc3986, pylatexenc, language-tags, dlinfo, uritemplate, isodate, colorlog, bibtexparser, rdflib, clldutils, csvw, segments, phonemizer\n",
      "Successfully installed bibtexparser-2.0.0b7 clldutils-3.22.2 colorlog-6.8.2 csvw-3.3.0 dlinfo-1.2.1 isodate-0.6.1 language-tags-1.2.0 phonemizer-3.3.0 pylatexenc-2.10 rdflib-7.0.0 rfc3986-1.5.0 segments-2.2.1 uritemplate-4.1.1\n"
     ]
    }
   ],
   "source": [
    "# These commands are for installing required libraries if running the code on a local machine.\n",
    "# These libraries include HuggingFace Transformers, Gradio, Timm (PyTorch image models), Inflect for handling singular/plural, \n",
    "# and Phonemizer for converting text to phonemes.\n",
    "\n",
    "!pip install transformers  # For HuggingFace Transformers (Text-to-Speech model)\n",
    "!pip install gradio        # For creating web-based interfaces (not essential in this example)\n",
    "!pip install timm          # PyTorch image models, not required for TTS but used in advanced models\n",
    "!pip install inflect        # For text processing (e.g., converting numbers to words)\n",
    "!pip install phonemizer     # For converting text to phonemes (improves speech generation accuracy)\n"
   ]
  },
  {
   "cell_type": "markdown",
   "id": "8ce1ed2d-3976-4df3-92ac-324fa34cfc9b",
   "metadata": {},
   "source": [
    "Cell 2: Install espeak-ng and py-espeak-ng on a Linux machine"
   ]
  },
  {
   "cell_type": "code",
   "execution_count": 14,
   "id": "62565c4c-1ab4-483e-bc36-4ebbb73b79c5",
   "metadata": {},
   "outputs": [
    {
     "ename": "SyntaxError",
     "evalue": "invalid syntax (566090914.py, line 4)",
     "output_type": "error",
     "traceback": [
      "\u001b[0;36m  Cell \u001b[0;32mIn[14], line 4\u001b[0;36m\u001b[0m\n\u001b[0;31m    sudo apt-get update                   # Update the package lists\u001b[0m\n\u001b[0m         ^\u001b[0m\n\u001b[0;31mSyntaxError\u001b[0m\u001b[0;31m:\u001b[0m invalid syntax\n"
     ]
    }
   ],
   "source": [
    "# These are required if you want to use py-espeak-ng for TTS on Linux only.\n",
    "# These commands install the `espeak-ng` library and the Python wrapper for it.\n",
    "\n",
    "sudo apt-get update                   # Update the package lists\n",
    "sudo apt-get install espeak-ng         # Install the espeak-ng package for speech synthesis\n",
    "pip install py-espeak-ng               # Install the Python wrapper for espeak-ng\n"
   ]
  },
  {
   "cell_type": "markdown",
   "id": "b7414fbb-533c-4831-bb68-15b4cc7cb48f",
   "metadata": {},
   "source": [
    "Cell 3: Suppress warning messages and import the pipeline"
   ]
  },
  {
   "cell_type": "code",
   "execution_count": null,
   "id": "02e45e76-f04b-4085-b6bf-e4a06669ed0e",
   "metadata": {},
   "outputs": [],
   "source": [
    "# Suppress warning messages to avoid cluttering the output.\n",
    "from transformers.utils import logging\n",
    "logging.set_verbosity_error()  # Set the logging level to suppress all warnings and errors\n",
    "\n",
    "# Import the `pipeline` function from HuggingFace Transformers library.\n",
    "# This function will be used to build the text-to-speech model pipeline.\n",
    "from transformers import pipeline\n"
   ]
  },
  {
   "cell_type": "markdown",
   "id": "175f5c46-2ab6-4dee-a2ef-ee6b379d8f3b",
   "metadata": {},
   "source": [
    "Cell 4: Initialize the text-to-speech pipeline"
   ]
  },
  {
   "cell_type": "code",
   "execution_count": null,
   "id": "5c0fee0b-f3c1-466b-8eaa-2b14e08d8777",
   "metadata": {},
   "outputs": [],
   "source": [
    "# Create a Text-to-Speech (TTS) pipeline using a pre-trained model.\n",
    "# The model \"vits-ljs\" from Kakao Enterprise is used here for text-to-speech conversion.\n",
    "# Ensure that the model is located in the \"./models/kakao-enterprise/vits-ljs\" directory.\n",
    "narrator = pipeline(\"text-to-speech\", model=\"./models/kakao-enterprise/vits-ljs\")\n"
   ]
  },
  {
   "cell_type": "markdown",
   "id": "2988af4c-702f-4245-b4a3-d528e7e25d67",
   "metadata": {},
   "source": [
    "Cell 5: Define the text to be narrated"
   ]
  },
  {
   "cell_type": "code",
   "execution_count": null,
   "id": "ebc7d1ee-a9b5-40ca-9102-00f534cd3c94",
   "metadata": {},
   "outputs": [],
   "source": [
    "# This is the sample text that the TTS model will convert to speech.\n",
    "# The text is a description of a tool developed by AI researchers to measure carbon emissions by cloud servers.\n",
    "text = \"\"\"\n",
    "Researchers at the Allen Institute for AI, \\\n",
    "HuggingFace, Microsoft, the University of Washington, \\\n",
    "Carnegie Mellon University, and the Hebrew University of \\\n",
    "Jerusalem developed a tool that measures atmospheric \\\n",
    "carbon emitted by cloud servers while training machine \\\n",
    "learning models. After a model’s size, the biggest variables \\\n",
    "were the server’s location and time of day it was active.\n",
    "\"\"\"\n"
   ]
  },
  {
   "cell_type": "markdown",
   "id": "918010a4-6af5-4a66-8ae8-e47cc0223015",
   "metadata": {},
   "source": [
    "Cell 6: Generate speech from the text"
   ]
  },
  {
   "cell_type": "code",
   "execution_count": null,
   "id": "ccb74dc8-d249-4eb3-96fe-0bcb6d4f4f5d",
   "metadata": {},
   "outputs": [],
   "source": [
    "# Use the TTS pipeline (narrator) to convert the text into speech.\n",
    "# The resulting speech data will be stored in the `narrated_text` variable.\n",
    "narrated_text = narrator(text)\n"
   ]
  },
  {
   "cell_type": "markdown",
   "id": "7f53c78d-14a7-4718-97fb-505a92123fd3",
   "metadata": {},
   "source": [
    "Cell 7: Play the generated audio"
   ]
  },
  {
   "cell_type": "code",
   "execution_count": null,
   "id": "2d57a1e7-5df6-41e4-b644-8b830f654641",
   "metadata": {},
   "outputs": [],
   "source": [
    "# Import IPython's `Audio` class to play the generated audio in the notebook.\n",
    "# The TTS pipeline returns audio data in a dictionary. \n",
    "# Here, we extract the first audio clip from the generated result.\n",
    "from IPython.display import Audio as IPythonAudio\n",
    "\n",
    "# Play the audio using IPython's `Audio` widget. \n",
    "# The sampling rate for the audio is extracted from the output dictionary.\n",
    "IPythonAudio(narrated_text[\"audio\"][0], rate=narrated_text[\"sampling_rate\"])\n"
   ]
  }
 ],
 "metadata": {
  "kernelspec": {
   "display_name": "Python 3 (ipykernel)",
   "language": "python",
   "name": "python3"
  },
  "language_info": {
   "codemirror_mode": {
    "name": "ipython",
    "version": 3
   },
   "file_extension": ".py",
   "mimetype": "text/x-python",
   "name": "python",
   "nbconvert_exporter": "python",
   "pygments_lexer": "ipython3",
   "version": "3.11.5"
  }
 },
 "nbformat": 4,
 "nbformat_minor": 5
}
